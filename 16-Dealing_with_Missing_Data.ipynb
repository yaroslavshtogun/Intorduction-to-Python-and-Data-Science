{
 "cells": [
  {
   "cell_type": "markdown",
   "metadata": {},
   "source": [
    "# 7 Manage Missing Values in Machine Learning\n",
    "\n",
    "1. Deleting Rows with missing values\n",
    "2. Impute missing values for continuous variable\n",
    "3. Impute missing values for categorical variable\n",
    "4. Other Imputation Methods\n",
    "5. Using Algorithms that support missing values\n",
    "6. Prediction of missing values\n",
    "7. Imputation using Deep Learning Library — Datawig"
   ]
  },
  {
   "cell_type": "code",
   "execution_count": null,
   "metadata": {},
   "outputs": [],
   "source": [
    "# Load labraries\n",
    "import numpy as np\n",
    "import pandas as pd\n",
    "import matplotlib.pyplot as plt\n",
    "import seaborn as sns\n",
    "import os \n",
    "\n",
    "%matplotlib inline\n",
    "\n",
    "# Display all the columns of the dataframe\n",
    "pd.pandas.set_option('display.max_columns', None)"
   ]
  },
  {
   "cell_type": "code",
   "execution_count": null,
   "metadata": {},
   "outputs": [],
   "source": [
    "# Working with Titanic Data\n",
    "df = pd.read_csv(\"Titanic_Train.csv\")\n",
    "df.head(10)"
   ]
  },
  {
   "cell_type": "code",
   "execution_count": null,
   "metadata": {},
   "outputs": [],
   "source": [
    "df.info()"
   ]
  },
  {
   "cell_type": "code",
   "execution_count": null,
   "metadata": {},
   "outputs": [],
   "source": [
    "df.describe()"
   ]
  },
  {
   "cell_type": "code",
   "execution_count": null,
   "metadata": {},
   "outputs": [],
   "source": [
    "# Using seaborn heatmap to see missing values\n",
    "plt.figure(figsize = (20,10))  # Set Figure size \n",
    "sns.heatmap(df.isnull(), yticklabels=False, cbar=True, cmap='viridis')\n",
    "plt.show()"
   ]
  },
  {
   "cell_type": "code",
   "execution_count": null,
   "metadata": {},
   "outputs": [],
   "source": [
    "# Step 1 - get the list of features with missng values\n",
    "features_with_na = [features for features in df.columns if df[features].isnull().sum() >= 1]\n",
    "print(features_with_na)\n",
    "\n",
    "# Step 2 - check if there are missing values and then print the feature name and the number/percentage of missng values\n",
    "if len(features_with_na) == 0:\n",
    "    print('There are no missing values in the dataframe.')\n",
    "else:\n",
    "    for feature in features_with_na:\n",
    "        print(feature, np.round(df[feature].isnull().sum(), 4), ' missing values,  %', np.round(df[feature].isnull().sum()/len(df)*100, 2))"
   ]
  },
  {
   "cell_type": "markdown",
   "metadata": {},
   "source": [
    "## 1. Delete Missing Rows"
   ]
  },
  {
   "cell_type": "code",
   "execution_count": null,
   "metadata": {},
   "outputs": [],
   "source": [
    "data = df.copy()\n",
    "print('DataFrame Dimenssions - ', data.shape)\n",
    "data.isnull().sum()"
   ]
  },
  {
   "cell_type": "code",
   "execution_count": null,
   "metadata": {},
   "outputs": [],
   "source": [
    "# Drop missing raws and columns\n",
    "data.dropna(inplace=True)\n",
    "print(data.isnull().sum())\n",
    "print(data.shape)"
   ]
  },
  {
   "cell_type": "markdown",
   "metadata": {},
   "source": [
    "<b>Pros</b>:\n",
    "\n",
    "A model trained with the removal of all missing values creates a robust model.\n",
    "\n",
    "<b>Cons</b>:\n",
    "\n",
    "Loss of a lot of information.\n",
    "\n",
    "Works poorly if the percentage of missing values is excessive in comparison to the complete dataset."
   ]
  },
  {
   "cell_type": "markdown",
   "metadata": {},
   "source": [
    "## 2. Impute missing values with Mean/Median\n",
    "\n",
    "Columns in the dataset which are having numeric continuous values can be replaced with the mean, median, or mode of remaining values in the column. This method can prevent the loss of data compared to the earlier method.\n",
    "\n",
    "Replacing the above two approximations (mean, median) is a statistical approach to handle the missing values."
   ]
  },
  {
   "cell_type": "code",
   "execution_count": null,
   "metadata": {},
   "outputs": [],
   "source": [
    "# Example of Age column\n",
    "data = df.copy()\n",
    "data['Age'][:20]"
   ]
  },
  {
   "cell_type": "code",
   "execution_count": null,
   "metadata": {},
   "outputs": [],
   "source": [
    "# Replacing with mean value()\n",
    "data[\"Age\"] = data[\"Age\"].replace(np.NaN, data[\"Age\"].mean())\n",
    "\n",
    "# Replacing with median value()\n",
    "data[\"Age\"] = data[\"Age\"].replace(np.NaN, data[\"Age\"].median())\n",
    "\n",
    "# print updated column\n",
    "data['Age'][:20]"
   ]
  },
  {
   "cell_type": "markdown",
   "metadata": {},
   "source": [
    "<b>Pros</b>:\n",
    "\n",
    "Prevent data loss which results in deletion of rows or columns\n",
    "\n",
    "Works well with a small dataset and easy to implement.\n",
    "\n",
    "<b>Cons</b>:\n",
    "\n",
    "Works only with numerical continuous variables.\n",
    "\n",
    "Can cause data leakage\n",
    "\n",
    "Does not factor the covariance between features."
   ]
  },
  {
   "cell_type": "markdown",
   "metadata": {},
   "source": [
    "## 3. Impute missing values with Mean/Median\n",
    "\n",
    "When missing values is from categorical columns (string or numerical) then the missing values can be replaced with the most frequent category. If the number of missing values is very large then it can be replaced with a new category."
   ]
  },
  {
   "cell_type": "code",
   "execution_count": null,
   "metadata": {},
   "outputs": [],
   "source": [
    "# Example of Age column\n",
    "data = df.copy()\n",
    "data.isnull().sum()"
   ]
  },
  {
   "cell_type": "code",
   "execution_count": null,
   "metadata": {},
   "outputs": [],
   "source": [
    "data['Cabin'] = data['Cabin'].fillna('Unknown')\n",
    "data.isnull().sum()"
   ]
  },
  {
   "cell_type": "markdown",
   "metadata": {},
   "source": [
    "<b>Pros</b>:\n",
    "\n",
    "Prevent data loss which results in deletion of rows or columns\n",
    "\n",
    "Works well with a small dataset and easy to implement\n",
    "\n",
    "Negates the loss of data by adding a unique category\n",
    "\n",
    "<b>Cons</b>:\n",
    "\n",
    "Works only with categorical variables.\n",
    "\n",
    "Addition of new features to the model while encoding, which may result in poor performance"
   ]
  },
  {
   "cell_type": "markdown",
   "metadata": {},
   "source": [
    "## 4. Other Imputation Methods\n",
    "\n",
    "Depending on the nature of the data or data type, some other imputation methods may be more appropriate to impute missing values.\n",
    "\n",
    "For example, for the data variable having longitudinal behavior, it might make sense to use the last valid observation to fill the missing value. This is known as the Last observation carried forward (LOCF) method."
   ]
  },
  {
   "cell_type": "code",
   "execution_count": null,
   "metadata": {},
   "outputs": [],
   "source": [
    "# Example of Age column\n",
    "data = df.copy()\n",
    "data['Age'][:20]"
   ]
  },
  {
   "cell_type": "code",
   "execution_count": null,
   "metadata": {},
   "outputs": [],
   "source": [
    "# method : {'backfill', 'bfill', 'pad', 'ffill', None}, default None\n",
    "# Method to use for filling holes in reindexed Series\n",
    "# pad / ffill: propagate last valid observation forward to next valid\n",
    "# backfill / bfill: use NEXT valid observation to fill gap\n",
    "    \n",
    "data[\"Age\"] = data[\"Age\"].fillna(method='ffill')\n",
    "data['Age'][:20]"
   ]
  },
  {
   "cell_type": "markdown",
   "metadata": {},
   "source": [
    "For the time-series dataset variable, it makes sense to use the interpolation of the variable before and after a timestamp for a missing value."
   ]
  },
  {
   "cell_type": "code",
   "execution_count": null,
   "metadata": {},
   "outputs": [],
   "source": [
    "# Example of Age column\n",
    "data = df.copy()\n",
    "data['Age'][:20]"
   ]
  },
  {
   "cell_type": "code",
   "execution_count": null,
   "metadata": {},
   "outputs": [],
   "source": [
    "data[\"Age\"] = data[\"Age\"].interpolate(method='linear', limit_direction='forward', axis=0)\n",
    "data['Age'][:20]"
   ]
  },
  {
   "cell_type": "markdown",
   "metadata": {},
   "source": [
    "## 5. Using Algorithms that support missing values\n",
    "\n",
    "All the machine learning algorithms don’t support missing values but some ML algorithms are robust to missing values in the dataset. The k-NN algorithm can ignore a column from a distance measure when a value is missing. Naive Bayes can also support missing values when making a prediction. These algorithms can be used when the dataset contains null or missing values.\n",
    "\n",
    "The sklearn implementations of naive Bayes and k-Nearest Neighbors in Python does not support the presence of the missing values.\n",
    "\n",
    "Another algorithm that can be used here is RandomForest that works well on non-linear and the categorical data. It adapts to the data structure taking into consideration the high variance or the bias, producing better results on large datasets.\n",
    "\n",
    "<b>Pros</b>:\n",
    "\n",
    "No need to handle missing values in each column as ML algorithms will handle it efficiently\n",
    "\n",
    "<b>Cons</b>:\n",
    "\n",
    "No implementation of these ML algorithms in the scikit-learn library."
   ]
  },
  {
   "cell_type": "markdown",
   "metadata": {},
   "source": [
    "## 6. Prediction of missing values\n",
    "In the earlier methods to handle missing values, we do not use correlation advantage of the variable containing the missing value and other variables. Using the other features which don’t have nulls can be used to predict missing values.\n",
    "\n",
    "The regression or classification model can be used for the prediction of missing values depending on nature (categorical or continuous) of the feature having missing value.\n",
    "\n",
    "\n",
    "```python\n",
    "Here 'Age' column contains missing values so for prediction of null values the spliting of data will be,\n",
    "y_train: rows from data[\"Age\"] with non null values\n",
    "y_test: rows from data[\"Age\"] with null values\n",
    "X_train: Dataset except data[\"Age\"] features with non null values\n",
    "X_test: Dataset except data[\"Age\"] features with null values\n",
    "```\n",
    "\n"
   ]
  },
  {
   "cell_type": "code",
   "execution_count": null,
   "metadata": {},
   "outputs": [],
   "source": [
    "from sklearn.linear_model import LinearRegression\n",
    "import pandas as pd\n",
    "\n",
    "data = pd.read_csv(\"Titanic_Train.csv\")\n",
    "data = data[[\"Survived\", \"Pclass\", \"Sex\", \"SibSp\", \"Parch\", \"Fare\", \"Age\"]]\n",
    "print(data.head(10))\n",
    "\n",
    "# check missing values\n",
    "print(data.isnull().sum())\n",
    "\n",
    "# Repalce categorical values with numerical\n",
    "data[\"Sex\"] = [1 if x==\"male\" else 0 for x in data[\"Sex\"]]\n",
    "\n",
    "# select rows with missing Age values \n",
    "test_data = data[data[\"Age\"].isnull()]\n",
    "data.dropna(inplace=True)\n",
    "\n",
    "y_train = data[\"Age\"]\n",
    "X_train = data.drop(\"Age\", axis=1)\n",
    "\n",
    "# drop Age column since it will be predicted\n",
    "X_test = test_data.drop(\"Age\", axis=1)\n",
    "\n",
    "model = LinearRegression()\n",
    "model.fit(X_train, y_train)\n",
    "\n",
    "y_pred = model.predict(X_test)\n",
    "\n",
    "y_pred"
   ]
  },
  {
   "cell_type": "markdown",
   "metadata": {},
   "source": [
    "<b>Pros</b>:\n",
    "    \n",
    "Gives a better result than earlier methods\n",
    "\n",
    "Takes into account the covariance between missing value column and other columns.\n",
    "\n",
    "<b>Cons</b>:\n",
    "\n",
    "Considered only as a proxy for the true values"
   ]
  },
  {
   "cell_type": "markdown",
   "metadata": {},
   "source": [
    "## 7. Imputation using Deep Learning Library — Datawig\n",
    "This method works very well with categorical, continuous, and non-numerical features. Datawig is a library that learns ML models using Deep Neural Networks to impute missing values in the datagram.\n",
    "\n",
    "Datawig can take a data frame and fit an imputation model for each column with missing values, with all other columns as inputs.\n",
    "\n",
    "Below is the code to impute missing values in the Age column"
   ]
  },
  {
   "cell_type": "code",
   "execution_count": null,
   "metadata": {
    "scrolled": false
   },
   "outputs": [],
   "source": [
    "import pandas as pd\n",
    "!pip install datawig\n",
    "import datawig\n",
    "\n",
    "data = pd.read_csv(\"Titanic_Train.csv\")\n",
    "\n",
    "df_train, df_test = datawig.utils.random_split(data)\n",
    "\n",
    "#Initialize a SimpleImputer model\n",
    "imputer = datawig.SimpleImputer(\n",
    "    input_columns=['Pclass','SibSp','Parch'], # column(s) containing information about the column we want to impute\n",
    "    output_column= 'Age', # the column we'd like to impute values for\n",
    "    output_path = 'imputer_model' # stores model data and metrics\n",
    "    )\n",
    "\n",
    "#Fit an imputer model on the train data\n",
    "imputer.fit(train_df=df_train, num_epochs=50)\n",
    "\n",
    "#Impute missing values and return original dataframe with predictions\n",
    "imputed = imputer.predict(df_test)"
   ]
  },
  {
   "cell_type": "code",
   "execution_count": null,
   "metadata": {},
   "outputs": [],
   "source": []
  }
 ],
 "metadata": {
  "kernelspec": {
   "display_name": "Python 3",
   "language": "python",
   "name": "python3"
  },
  "language_info": {
   "codemirror_mode": {
    "name": "ipython",
    "version": 3
   },
   "file_extension": ".py",
   "mimetype": "text/x-python",
   "name": "python",
   "nbconvert_exporter": "python",
   "pygments_lexer": "ipython3",
   "version": "3.7.4"
  }
 },
 "nbformat": 4,
 "nbformat_minor": 2
}

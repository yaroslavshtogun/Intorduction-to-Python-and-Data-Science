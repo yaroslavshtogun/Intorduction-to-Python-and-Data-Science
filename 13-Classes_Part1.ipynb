{
 "cells": [
  {
   "cell_type": "markdown",
   "metadata": {},
   "source": [
    "# Working with Classes and Objects"
   ]
  },
  {
   "cell_type": "markdown",
   "metadata": {},
   "source": [
    "<h2> Python Objects and Classes </h2>\n",
    "<a id = \"Matplotlib\"> </a>\n",
    "\n",
    "<p>\n",
    "Python is an object oriented programming language. Unlike procedure oriented programming, where the main emphasis is on functions, object oriented programming stresses on objects.\n",
    "\n",
    "An object is simply a collection of data (variables) and methods (functions) that act on those data. Similarly, a class is a blueprint for that object.\n",
    "\n",
    "We can think of class as a sketch (blueprint/prototype) of a house. It contains all the details about the floors, doors, windows etc. Based on these descriptions we build the house. House is the object.\n",
    "\n",
    "As many houses can be made from a house's blueprint, we can create many objects from a class. An object is also called an instance of a class and the process of creating this object is called instantiation. </p>"
   ]
  },
  {
   "cell_type": "markdown",
   "metadata": {},
   "source": [
    "## Defining a Class in Python\n",
    "Like function definitions begin with the <b>def</b> keyword in Python, class definitions begin with a <b>class</b> keyword.\n",
    "\n",
    "The first string inside the class is called docstring and has a brief description about the class. Although not mandatory, this is highly recommended.\n",
    "\n",
    "Here is a simple class definition."
   ]
  },
  {
   "cell_type": "code",
   "execution_count": null,
   "metadata": {},
   "outputs": [],
   "source": [
    "class MyNewClass:\n",
    "    '''This is a docstring. I have created a new class'''\n",
    "    pass"
   ]
  },
  {
   "cell_type": "markdown",
   "metadata": {},
   "source": [
    "<p> The example of Car class definition \n",
    "    \n",
    "<p> In this code, we build a class (blueprint) for cars that is named Car. Each car we need to code will be an instance of this class. i.e. an object.</p>"
   ]
  },
  {
   "cell_type": "code",
   "execution_count": null,
   "metadata": {},
   "outputs": [],
   "source": [
    "class Car: # Defining the class with the name Car\n",
    "    pass   # A placeholder to show that we can provide a block of code here"
   ]
  },
  {
   "cell_type": "markdown",
   "metadata": {},
   "source": [
    "<p> Therefore, we can instantiate two cars objects from Car calss as follows:<p>"
   ]
  },
  {
   "cell_type": "code",
   "execution_count": null,
   "metadata": {},
   "outputs": [],
   "source": [
    "car_1 = Car()\n",
    "car_2 = Car()"
   ]
  },
  {
   "cell_type": "markdown",
   "metadata": {},
   "source": [
    "<p> Each car instance will have its own data (attributes) and functions. For example: </p>"
   ]
  },
  {
   "cell_type": "code",
   "execution_count": null,
   "metadata": {},
   "outputs": [],
   "source": [
    "car_1.make = 'Toyota'\n",
    "car_1.model = 'Corolla'\n",
    "car_1.year= '1995'\n",
    "\n",
    "\n",
    "car_2.make = 'BMW'\n",
    "car_2.model = 'M3'\n",
    "car_2.year= '2010'\n",
    "\n",
    "print(car_1.make) # prints  ‘Toyota’\n",
    "print(car_2.make) # prints  ‘BMW’\n"
   ]
  },
  {
   "cell_type": "markdown",
   "metadata": {},
   "source": [
    "<p>As shown, you can create variables for the objects you can create from the classes. But it is a lot of coding. Thus, we can program some objects’ attributes to setup automatically when we create the objects. To do that, we use _ _ init _ _ method. A special method that creates objects’ attributes automatically. This method is referred to as the <b> initialize method </b> or <b> constructor </b>. </p>"
   ]
  },
  {
   "cell_type": "code",
   "execution_count": null,
   "metadata": {},
   "outputs": [],
   "source": [
    "# Use constructor to initialize object parameters \n",
    "\n",
    "class Car: # defining the class with the name Car\n",
    "    def __init__ (self, make, model, year): # create the constructor. It receives an instance (self) as the first argument, make and model as instance variables\n",
    "        self.make = make # this is the same as in the previous model when I said car_1.make = ‘Toyota’. Except now instead of doing it manually, it will be created automatically when I create car_1\n",
    "        self.model = model # assigning model name like 'Corola'\n",
    "        self.year = year   # assigning year name like 'Corola'\n",
    "    \n",
    "    # customized way to represent state of the object as a tring \n",
    "    def __str__(self): \n",
    "        return (\"Car Maker: \" + str(self.make) + \"\\nCar Model: \" + str(self.model) + \"\\nCar Year : \" + str(self.year))"
   ]
  },
  {
   "cell_type": "markdown",
   "metadata": {},
   "source": [
    "Now when you create the instances, you can pass the arguments of the attributes"
   ]
  },
  {
   "cell_type": "code",
   "execution_count": null,
   "metadata": {},
   "outputs": [],
   "source": [
    "# Example of using class constructor and state method\n",
    "\n",
    "# Create object car_1 thorught constructor\n",
    "# The init method will run automatically, car_1 will be passed in as self, and the attributes will be passed automatically. \n",
    "car_1 = Car ('Toyota', 'Corolla', '1995') \n",
    "\n",
    "# Print object state throught special method __str__()\n",
    "print(car_1)"
   ]
  },
  {
   "cell_type": "code",
   "execution_count": null,
   "metadata": {},
   "outputs": [],
   "source": [
    "# Access object attributes throguht '.'\n",
    "\n",
    "print(car_1.make)\n",
    "print(car_1.model)\n",
    "print(car_1.year)\n"
   ]
  },
  {
   "cell_type": "markdown",
   "metadata": {},
   "source": [
    "<p>\n",
    "Proper way define the class and class documentation:\n",
    "    </p>"
   ]
  },
  {
   "cell_type": "code",
   "execution_count": null,
   "metadata": {
    "scrolled": true
   },
   "outputs": [],
   "source": [
    "class Rectangle:\n",
    "    \"\"\"\n",
    "    A class used to represent an Rectangle and its properties.\n",
    "\n",
    "    Attributes\n",
    "    ----------\n",
    "    _width : int\n",
    "        the integer value of the rectangle width (default 1)\n",
    "    _height : int\n",
    "        the integer value of the rectangle height (default 1)\n",
    "\n",
    "    Methods\n",
    "    -------\n",
    "    setWidth(width)\n",
    "        set rectangle width \n",
    "        \n",
    "    setHeight(height)\n",
    "        set rectangle height \n",
    "        \n",
    "    getWidth()\n",
    "        get rectangle width \n",
    "        \n",
    "    getHeight()\n",
    "        get rectangle height         \n",
    "\n",
    "    area()\n",
    "        get rectangle area \n",
    "        \n",
    "    perimeter()\n",
    "        get rectangle perimeter \n",
    "        \n",
    "    __str__()\n",
    "        print rectangle width anf height \n",
    "\n",
    "    \"\"\"\n",
    "     \n",
    "    def __init__(self, width = 1, height = 1):\n",
    "        \"\"\"\n",
    "        Parameters\n",
    "        ----------\n",
    "        _width : int\n",
    "            the integer value of the rectangle width (default 1)\n",
    "        _height : int\n",
    "            the integer value of the rectangle height (default 1)\n",
    "        \"\"\"          \n",
    "        self.width = width\n",
    "        self.height = height\n",
    "    \n",
    "    def setWidth(self, width):\n",
    "        \"\"\"\n",
    "        The method sets the width value\n",
    "        \n",
    "        Parameters\n",
    "        ----------\n",
    "        width : int\n",
    "            the integer value of the rectangle width \n",
    "        \n",
    "        Return \n",
    "        ----------\n",
    "        None \n",
    "\n",
    "        \"\"\"\n",
    "           \n",
    "        self._width = width\n",
    "        \n",
    "    def setHeight(self, height):\n",
    "        \"\"\"\n",
    "        The method sets the height value \n",
    "        \n",
    "        Parameters\n",
    "        ----------\n",
    "        height : int\n",
    "            the integer value of the rectangle height \n",
    "        \n",
    "        Return \n",
    "        ----------\n",
    "        None \n",
    "        \"\"\"\n",
    "        \n",
    "        self.height = height\n",
    "        \n",
    "    def getWidth(self):\n",
    "        \"\"\"\n",
    "        The method get the width value \n",
    "        \n",
    "        Parameters\n",
    "        ----------\n",
    "        None\n",
    "        \n",
    "        Return \n",
    "        ----------\n",
    "        width : int \n",
    "            the integer  values of the rectangle width  \n",
    "        \"\"\"\n",
    "        \n",
    "        return self.width\n",
    "        \n",
    "    def getHeight(self):\n",
    "        \"\"\"\n",
    "        The method get the height value \n",
    "        \n",
    "        Parameters\n",
    "        ----------\n",
    "        None\n",
    "        \n",
    "        Return \n",
    "        ----------\n",
    "        height : int \n",
    "            the integer  values of the rectangle height  \n",
    "        \"\"\"        \n",
    "        return self.height \n",
    "    \n",
    "    def area(self):\n",
    "        \"\"\"\n",
    "        The method calculate the rectanle area  \n",
    "        \n",
    "        Parameters\n",
    "        ----------\n",
    "        None\n",
    "        \n",
    "        Return \n",
    "        ----------\n",
    "        area : int \n",
    "            the integer  values of the rectangle area  \n",
    "        \"\"\"       \n",
    "        \n",
    "        return self.width * self.height\n",
    "        \n",
    "    def perimeter(self):\n",
    "        \"\"\"\n",
    "        The method calculate the rectanle perimeter  \n",
    "        \n",
    "        Parameters\n",
    "        ----------\n",
    "        None\n",
    "        \n",
    "        Return \n",
    "        ----------\n",
    "        perimeter : int \n",
    "            the integer  values of the rectangle perimeter  \n",
    "        \"\"\" \n",
    "        \n",
    "        return 2*(self.width + self.height)\n",
    "    \n",
    "    def __str__(self):\n",
    "        \"\"\"\n",
    "        The method print the object state   \n",
    "        \n",
    "        Parameters\n",
    "        ----------\n",
    "        None\n",
    "        \n",
    "        Return \n",
    "        ----------\n",
    "        string : str \n",
    "            String that shows object state such as its width and height  \n",
    "        \"\"\"\n",
    "        \n",
    "        return (\"Width: \" + str(self.width) + \"\\nHeight: \" + str(self.height))"
   ]
  },
  {
   "cell_type": "code",
   "execution_count": null,
   "metadata": {},
   "outputs": [],
   "source": [
    "# Create a rectangle object throught constructor by passing width 4 and height 5\n",
    "r = Rectangle(4, 5)\n",
    "\n",
    "# call __str__ state method \n",
    "print(r)"
   ]
  },
  {
   "cell_type": "code",
   "execution_count": null,
   "metadata": {},
   "outputs": [],
   "source": [
    "# Create a rectangle throught constructor with the default values for width and height\n",
    "r = Rectangle()\n",
    "\n",
    "# call __str__ state method \n",
    "print(r)"
   ]
  },
  {
   "cell_type": "code",
   "execution_count": null,
   "metadata": {},
   "outputs": [],
   "source": [
    "# # Create a rectangle throught constructor by passing width 4 and default height 1\n",
    "r = Rectangle(4)\n",
    "\n",
    "# call __str__ state method\n",
    "print(r)"
   ]
  },
  {
   "cell_type": "code",
   "execution_count": null,
   "metadata": {},
   "outputs": [],
   "source": [
    "# Create a rectangle with the default values for width and height\n",
    "r = Rectangle()\n",
    "\n",
    "\n",
    "# Use the mutators to assign values to the instance variables \n",
    "r.setWidth(4)\n",
    "r.setHeight(5)\n",
    "\n",
    "\n",
    "# Use the accessor methods to retrive the values of the instance variable\n",
    "print(\"The rectangle has the following measurements:\")\n",
    "print(\"Width  is :\", r.getWidth())\n",
    "print(\"Height is :\", r.getHeight())\n",
    "\n",
    "# Use methods to claculate the area and perimeter of the rectangle \n",
    "print(\"Area is :\", r.area())\n",
    "print(\"Perimeter is :\", r.perimeter())"
   ]
  },
  {
   "cell_type": "markdown",
   "metadata": {},
   "source": [
    "# Number of Methods in a Class Definition\n",
    "\n",
    "Class definition can have many methods as needed but it also can have no methods at all. Here is example of valid class definition without any methods:\n",
    "\n",
    "<b>class Trivial:<br>\n",
    " &nbsp;&nbsp;&nbsp;&nbsp;&nbsp; passs\n",
    "    </b>"
   ]
  },
  {
   "cell_type": "code",
   "execution_count": null,
   "metadata": {},
   "outputs": [],
   "source": [
    "# Example of class without mutator or accessor methods\n",
    "\n",
    "# import random library to generate random numbers\n",
    "import random\n",
    "\n",
    "def main():\n",
    "    ## Select card at random\n",
    "    c = Card()  # Create an instance of a Card object and call __init__ method\n",
    "    c.selectAtRandom()   # Invoke the selectAtRandom method on the object c\n",
    "    print(c)   # Call the __str__ method that displays the returned values\n",
    "    \n",
    "class Card:\n",
    "    # class constructor to initialize varaibles\n",
    "    def __init__(self, rank=\"\", suit=\"\"):\n",
    "        self._rank = rank\n",
    "        self._suit = suit\n",
    "        \n",
    "    def selectAtRandom(self):\n",
    "        ## Randomly select a rank and suit.\n",
    "        ranks=['2', '3', '4', '5', '6', '7', '8', '9', '10', 'Jack', 'Queen', 'King', 'Ace']\n",
    "        \n",
    "        self._rank = random.choice(ranks)\n",
    "        self._suit = random.choice(['Spades', 'Hearts', 'Clubs', 'Diamonds'])\n",
    "        \n",
    "    def __str__(self):\n",
    "        return (self._rank + \" of \" + self._suit)\n",
    "        \n",
    "main()\n"
   ]
  },
  {
   "cell_type": "markdown",
   "metadata": {},
   "source": [
    "# List of Objects\n",
    "\n",
    "The item of the list can be any data type. Hence the list item can also be user-defined class:"
   ]
  },
  {
   "cell_type": "code",
   "execution_count": null,
   "metadata": {},
   "outputs": [],
   "source": [
    "# import Rectangle calss from rectangle.py file\n",
    "import rectangle\n",
    "\n",
    "def main():\n",
    "    # Create list\n",
    "    listRectangles = []\n",
    "    \n",
    "    for i in range(0,5):\n",
    "        ## Create object (instance) of Rectangle calss\n",
    "        r = rectangle.Rectangle(i+5,i+10)  # Create an instance of a Rectanle object and call __init__ method\n",
    "        listRectangles.append(r)   # Call the __str__ method that displays width and height of the rectangle values\n",
    "    \n",
    "    for r in listRectangles:\n",
    "        print(r)\n",
    "        print(type(r))\n",
    "        \n",
    "main()"
   ]
  },
  {
   "cell_type": "code",
   "execution_count": null,
   "metadata": {},
   "outputs": [],
   "source": [
    "# Another example of using Card calss to create the list of Card objects\n",
    "\n",
    "def main():\n",
    "    # Create list\n",
    "    listCards = []\n",
    "    \n",
    "    for i in range(0,5):\n",
    "        ## Select card at random\n",
    "        c = Card()  # Create an instance of a Card object and call __init__ method\n",
    "        c.selectAtRandom()   # Invoke the selectAtRandom method on the object c\n",
    "        listCards.append(c)   # Call the __str__ method that displays the returned values\n",
    "    \n",
    "    print()\n",
    "    for card in listCards: # loop thorught each item in the list\n",
    "        print(card)        # print object \n",
    "        print(type(card))  # print object type\n",
    "        \n",
    "main()"
   ]
  }
 ],
 "metadata": {
  "kernelspec": {
   "display_name": "Python 3",
   "language": "python",
   "name": "python3"
  },
  "language_info": {
   "codemirror_mode": {
    "name": "ipython",
    "version": 3
   },
   "file_extension": ".py",
   "mimetype": "text/x-python",
   "name": "python",
   "nbconvert_exporter": "python",
   "pygments_lexer": "ipython3",
   "version": "3.7.4"
  }
 },
 "nbformat": 4,
 "nbformat_minor": 2
}

{
 "cells": [
  {
   "cell_type": "markdown",
   "metadata": {},
   "source": [
    "# Working with Pandas Library"
   ]
  },
  {
   "cell_type": "markdown",
   "metadata": {},
   "source": [
    "<h2> Pandas Library </h2>\n",
    "<a id = \"Matplotlib\"> </a>\n",
    "\n",
    "<p>Pandas is an open-source library that is made mainly for working with relational or labeled data both easily and intuitively. It provides various data structures and operations for manipulating numerical data and time series. This library is built on the top of the NumPy library. Pandas is fast and it has high-performance & productivity for users.</p>\n",
    "\n",
    "### History\n",
    "<p>Pandas was initially developed by Wes McKinney in 2008 while he was working at AQR Capital Management. He convinced the AQR to allow him to open source the Pandas. Another AQR employee, Chang She, joined as the second major contributor to the library in 2012. Over the time many versions of pandas have been released. The latest version of the pandas is 1.1.3\n",
    "    </p>\n",
    "\n",
    "### Advantages\n",
    "<div style=\"margin-top: 20px\">\n",
    "    <ul>\n",
    "        <li> Fast and efficient for manipulating and analyzing data.</li>\n",
    "        <li> Data from different file objects can be loaded.</li>\n",
    "        <li> Easy handling of missing data (represented as NaN) in floating point as well as non-floating point data</li>\n",
    "        <li> Size mutability: columns can be inserted and deleted from DataFrame and higher dimensional objects</li>\n",
    "        <li> Data set merging and joining.</li>\n",
    "        <li> Flexible reshaping and pivoting of data sets</li>\n",
    "        <li> Provides time-series functionality.</li> \n",
    "        <li> Powerful group by functionality for performing split-apply-combine operations on data sets.</li>   \n",
    "     </ul>\n",
    "</div>\n",
    "\n",
    "<p> You can find more documentation and examples about Pands library on <a href=\"https://pandas.pydata.org/\"> pandas.pydata.org </a> </p>"
   ]
  },
  {
   "cell_type": "markdown",
   "metadata": {},
   "source": [
    "## Getting Started\n",
    "To use pandas, you'll typically start with the following line of code."
   ]
  },
  {
   "cell_type": "code",
   "execution_count": null,
   "metadata": {},
   "outputs": [],
   "source": [
    "import pandas as pd"
   ]
  },
  {
   "cell_type": "markdown",
   "metadata": {},
   "source": [
    "<p>\n",
    "There are several ways to create a DataFrame. One way way is to use a dictionary. For example:\n",
    "    </p>"
   ]
  },
  {
   "cell_type": "code",
   "execution_count": 1,
   "metadata": {
    "scrolled": true
   },
   "outputs": [
    {
     "name": "stdout",
     "output_type": "stream",
     "text": [
      "        country    capital    area  population\n",
      "0        Brazil   Brasilia   8.516      200.40\n",
      "1        Russia     Moscow  17.100      143.50\n",
      "2         India  New Dehli   3.286     1252.00\n",
      "3         China    Beijing   9.597     1357.00\n",
      "4  South Africa   Pretoria   1.221       52.98\n"
     ]
    }
   ],
   "source": [
    "dict = {\"country\": [\"Brazil\", \"Russia\", \"India\", \"China\", \"South Africa\"],\n",
    "       \"capital\": [\"Brasilia\", \"Moscow\", \"New Dehli\", \"Beijing\", \"Pretoria\"],\n",
    "       \"area\": [8.516, 17.10, 3.286, 9.597, 1.221],\n",
    "       \"population\": [200.4, 143.5, 1252, 1357, 52.98] }\n",
    "\n",
    "import pandas as pd\n",
    "brics = pd.DataFrame(dict)\n",
    "print(brics)"
   ]
  },
  {
   "cell_type": "code",
   "execution_count": 2,
   "metadata": {},
   "outputs": [
    {
     "name": "stdout",
     "output_type": "stream",
     "text": [
      "         country    capital    area  population\n",
      "BR        Brazil   Brasilia   8.516      200.40\n",
      "RU        Russia     Moscow  17.100      143.50\n",
      "IN         India  New Dehli   3.286     1252.00\n",
      "CH         China    Beijing   9.597     1357.00\n",
      "SA  South Africa   Pretoria   1.221       52.98\n"
     ]
    }
   ],
   "source": [
    "# Set the index for brics\n",
    "brics.index = [\"BR\", \"RU\", \"IN\", \"CH\", \"SA\"]\n",
    "\n",
    "# Print out brics with new index values\n",
    "print(brics)"
   ]
  },
  {
   "cell_type": "markdown",
   "metadata": {},
   "source": [
    "### Series\n",
    "A Series, by contrast, is a sequence of data values. If a DataFrame is a table, a Series is a list. And in fact you can create one with nothing more than a list:"
   ]
  },
  {
   "cell_type": "code",
   "execution_count": 24,
   "metadata": {
    "scrolled": true
   },
   "outputs": [
    {
     "data": {
      "text/plain": [
       "0    1\n",
       "1    2\n",
       "2    3\n",
       "3    4\n",
       "4    5\n",
       "dtype: int64"
      ]
     },
     "execution_count": 24,
     "metadata": {},
     "output_type": "execute_result"
    }
   ],
   "source": [
    "pd.Series([1, 2, 3, 4, 5])"
   ]
  },
  {
   "cell_type": "markdown",
   "metadata": {},
   "source": [
    "A Series is, in essence, a single column of a DataFrame. So you can assign column values to the Series the same way as before, using an <i>index</i> parameter. However, a Series does not have a column name, it only has one overall <i>name</i>:"
   ]
  },
  {
   "cell_type": "code",
   "execution_count": 25,
   "metadata": {
    "scrolled": false
   },
   "outputs": [
    {
     "data": {
      "text/plain": [
       "2015 Sales    30\n",
       "2016 Sales    35\n",
       "2017 Sales    40\n",
       "Name: Product A, dtype: int64"
      ]
     },
     "execution_count": 25,
     "metadata": {},
     "output_type": "execute_result"
    }
   ],
   "source": [
    "pd.Series([30, 35, 40], index=['2015 Sales', '2016 Sales', '2017 Sales'], name='Product A')"
   ]
  },
  {
   "cell_type": "code",
   "execution_count": 49,
   "metadata": {
    "scrolled": true
   },
   "outputs": [
    {
     "name": "stdout",
     "output_type": "stream",
     "text": [
      "     Author  Article   Age\n",
      "0  Jitender      210  21.0\n",
      "1   Purnima      211  21.0\n",
      "2     Arpit      114  23.0\n",
      "3     Jyoti      178   NaN\n"
     ]
    }
   ],
   "source": [
    "author = ['Jitender', 'Purnima', 'Arpit', 'Jyoti'] \n",
    "article = [210, 211, 114, 178] \n",
    "  \n",
    "auth_series = pd.Series(author) \n",
    "article_series = pd.Series(article) \n",
    "  \n",
    "frame = { 'Author': auth_series, 'Article': article_series } \n",
    "  \n",
    "result = pd.DataFrame(frame) \n",
    "age = [21, 21, 23] \n",
    "  \n",
    "result['Age'] = pd.Series(age) \n",
    "  \n",
    "print(result) "
   ]
  },
  {
   "cell_type": "markdown",
   "metadata": {},
   "source": [
    "## Create DataFrame from CSV-file\n",
    "Another way to create a DataFrame is by importing a csv file using Pandas. Now, the csv file is stored and can be imported using pd.read_csv:"
   ]
  },
  {
   "cell_type": "code",
   "execution_count": 3,
   "metadata": {
    "scrolled": false
   },
   "outputs": [
    {
     "name": "stdout",
     "output_type": "stream",
     "text": [
      "             Afghanistan           Asia    31.8    251772\n",
      "0                Albania         Europe   3.000   11100.0\n",
      "1                Algeria         Africa  38.300  919595.0\n",
      "2                Andorra         Europe   0.085     181.0\n",
      "3                 Angola         Africa  19.100  481354.0\n",
      "4    Antigua and Barbuda  North America   0.091     108.0\n",
      "..                   ...            ...     ...       ...\n",
      "187            Venezuela  South America  28.900  353841.0\n",
      "188              Vietnam           Asia  93.400  128527.0\n",
      "189                Yemen           Asia  26.100  203849.0\n",
      "190               Zambia         Africa  14.700  290587.0\n",
      "191             Zimbabwe         Africa  13.800  150871.0\n",
      "\n",
      "[192 rows x 4 columns]\n"
     ]
    }
   ],
   "source": [
    "# Import the Countries from UN.txt file\n",
    "country = pd.read_csv('UN.txt')\n",
    "\n",
    "# Print out countries\n",
    "print(country)"
   ]
  },
  {
   "cell_type": "code",
   "execution_count": 71,
   "metadata": {},
   "outputs": [
    {
     "data": {
      "text/html": [
       "<div>\n",
       "<style scoped>\n",
       "    .dataframe tbody tr th:only-of-type {\n",
       "        vertical-align: middle;\n",
       "    }\n",
       "\n",
       "    .dataframe tbody tr th {\n",
       "        vertical-align: top;\n",
       "    }\n",
       "\n",
       "    .dataframe thead th {\n",
       "        text-align: right;\n",
       "    }\n",
       "</style>\n",
       "<table border=\"1\" class=\"dataframe\">\n",
       "  <thead>\n",
       "    <tr style=\"text-align: right;\">\n",
       "      <th></th>\n",
       "      <th>Country</th>\n",
       "      <th>Continent</th>\n",
       "      <th>Population</th>\n",
       "      <th>Area</th>\n",
       "    </tr>\n",
       "  </thead>\n",
       "  <tbody>\n",
       "    <tr>\n",
       "      <td>0</td>\n",
       "      <td>Albania</td>\n",
       "      <td>Europe</td>\n",
       "      <td>3.000</td>\n",
       "      <td>11100.0</td>\n",
       "    </tr>\n",
       "    <tr>\n",
       "      <td>1</td>\n",
       "      <td>Algeria</td>\n",
       "      <td>Africa</td>\n",
       "      <td>38.300</td>\n",
       "      <td>919595.0</td>\n",
       "    </tr>\n",
       "    <tr>\n",
       "      <td>2</td>\n",
       "      <td>Andorra</td>\n",
       "      <td>Europe</td>\n",
       "      <td>0.085</td>\n",
       "      <td>181.0</td>\n",
       "    </tr>\n",
       "    <tr>\n",
       "      <td>3</td>\n",
       "      <td>Angola</td>\n",
       "      <td>Africa</td>\n",
       "      <td>19.100</td>\n",
       "      <td>481354.0</td>\n",
       "    </tr>\n",
       "    <tr>\n",
       "      <td>4</td>\n",
       "      <td>Antigua and Barbuda</td>\n",
       "      <td>North America</td>\n",
       "      <td>0.091</td>\n",
       "      <td>108.0</td>\n",
       "    </tr>\n",
       "    <tr>\n",
       "      <td>...</td>\n",
       "      <td>...</td>\n",
       "      <td>...</td>\n",
       "      <td>...</td>\n",
       "      <td>...</td>\n",
       "    </tr>\n",
       "    <tr>\n",
       "      <td>187</td>\n",
       "      <td>Venezuela</td>\n",
       "      <td>South America</td>\n",
       "      <td>28.900</td>\n",
       "      <td>353841.0</td>\n",
       "    </tr>\n",
       "    <tr>\n",
       "      <td>188</td>\n",
       "      <td>Vietnam</td>\n",
       "      <td>Asia</td>\n",
       "      <td>93.400</td>\n",
       "      <td>128527.0</td>\n",
       "    </tr>\n",
       "    <tr>\n",
       "      <td>189</td>\n",
       "      <td>Yemen</td>\n",
       "      <td>Asia</td>\n",
       "      <td>26.100</td>\n",
       "      <td>203849.0</td>\n",
       "    </tr>\n",
       "    <tr>\n",
       "      <td>190</td>\n",
       "      <td>Zambia</td>\n",
       "      <td>Africa</td>\n",
       "      <td>14.700</td>\n",
       "      <td>290587.0</td>\n",
       "    </tr>\n",
       "    <tr>\n",
       "      <td>191</td>\n",
       "      <td>Zimbabwe</td>\n",
       "      <td>Africa</td>\n",
       "      <td>13.800</td>\n",
       "      <td>150871.0</td>\n",
       "    </tr>\n",
       "  </tbody>\n",
       "</table>\n",
       "<p>192 rows × 4 columns</p>\n",
       "</div>"
      ],
      "text/plain": [
       "                 Country      Continent  Population      Area\n",
       "0                Albania         Europe       3.000   11100.0\n",
       "1                Algeria         Africa      38.300  919595.0\n",
       "2                Andorra         Europe       0.085     181.0\n",
       "3                 Angola         Africa      19.100  481354.0\n",
       "4    Antigua and Barbuda  North America       0.091     108.0\n",
       "..                   ...            ...         ...       ...\n",
       "187            Venezuela  South America      28.900  353841.0\n",
       "188              Vietnam           Asia      93.400  128527.0\n",
       "189                Yemen           Asia      26.100  203849.0\n",
       "190               Zambia         Africa      14.700  290587.0\n",
       "191             Zimbabwe         Africa      13.800  150871.0\n",
       "\n",
       "[192 rows x 4 columns]"
      ]
     },
     "execution_count": 71,
     "metadata": {},
     "output_type": "execute_result"
    }
   ],
   "source": [
    "# See information about Country DataFrame\n",
    "columnsName = ['Country','Continent','Population','Area']\n",
    "country.columns = columnsName\n",
    "country"
   ]
  },
  {
   "cell_type": "code",
   "execution_count": 72,
   "metadata": {},
   "outputs": [
    {
     "name": "stdout",
     "output_type": "stream",
     "text": [
      "<class 'pandas.core.frame.DataFrame'>\n",
      "RangeIndex: 192 entries, 0 to 191\n",
      "Data columns (total 4 columns):\n",
      "Country       192 non-null object\n",
      "Continent     192 non-null object\n",
      "Population    192 non-null float64\n",
      "Area          192 non-null float64\n",
      "dtypes: float64(2), object(2)\n",
      "memory usage: 6.1+ KB\n"
     ]
    }
   ],
   "source": [
    "# See information about Country DataFrame\n",
    "country.info()"
   ]
  },
  {
   "cell_type": "code",
   "execution_count": 73,
   "metadata": {},
   "outputs": [
    {
     "data": {
      "text/html": [
       "<div>\n",
       "<style scoped>\n",
       "    .dataframe tbody tr th:only-of-type {\n",
       "        vertical-align: middle;\n",
       "    }\n",
       "\n",
       "    .dataframe tbody tr th {\n",
       "        vertical-align: top;\n",
       "    }\n",
       "\n",
       "    .dataframe thead th {\n",
       "        text-align: right;\n",
       "    }\n",
       "</style>\n",
       "<table border=\"1\" class=\"dataframe\">\n",
       "  <thead>\n",
       "    <tr style=\"text-align: right;\">\n",
       "      <th></th>\n",
       "      <th>Population</th>\n",
       "      <th>Area</th>\n",
       "    </tr>\n",
       "  </thead>\n",
       "  <tbody>\n",
       "    <tr>\n",
       "      <td>count</td>\n",
       "      <td>192.000000</td>\n",
       "      <td>1.920000e+02</td>\n",
       "    </tr>\n",
       "    <tr>\n",
       "      <td>mean</td>\n",
       "      <td>36.998940</td>\n",
       "      <td>2.686383e+05</td>\n",
       "    </tr>\n",
       "    <tr>\n",
       "      <td>std</td>\n",
       "      <td>137.050502</td>\n",
       "      <td>7.454697e+05</td>\n",
       "    </tr>\n",
       "    <tr>\n",
       "      <td>min</td>\n",
       "      <td>0.009500</td>\n",
       "      <td>7.600000e-01</td>\n",
       "    </tr>\n",
       "    <tr>\n",
       "      <td>25%</td>\n",
       "      <td>1.850000</td>\n",
       "      <td>8.681250e+03</td>\n",
       "    </tr>\n",
       "    <tr>\n",
       "      <td>50%</td>\n",
       "      <td>7.600000</td>\n",
       "      <td>4.613750e+04</td>\n",
       "    </tr>\n",
       "    <tr>\n",
       "      <td>75%</td>\n",
       "      <td>24.750000</td>\n",
       "      <td>1.995485e+05</td>\n",
       "    </tr>\n",
       "    <tr>\n",
       "      <td>max</td>\n",
       "      <td>1355.700000</td>\n",
       "      <td>6.592800e+06</td>\n",
       "    </tr>\n",
       "  </tbody>\n",
       "</table>\n",
       "</div>"
      ],
      "text/plain": [
       "        Population          Area\n",
       "count   192.000000  1.920000e+02\n",
       "mean     36.998940  2.686383e+05\n",
       "std     137.050502  7.454697e+05\n",
       "min       0.009500  7.600000e-01\n",
       "25%       1.850000  8.681250e+03\n",
       "50%       7.600000  4.613750e+04\n",
       "75%      24.750000  1.995485e+05\n",
       "max    1355.700000  6.592800e+06"
      ]
     },
     "execution_count": 73,
     "metadata": {},
     "output_type": "execute_result"
    }
   ],
   "source": [
    "# See information about Country DataFrame\n",
    "country.describe()"
   ]
  },
  {
   "cell_type": "code",
   "execution_count": 74,
   "metadata": {
    "scrolled": true
   },
   "outputs": [
    {
     "data": {
      "text/html": [
       "<div>\n",
       "<style scoped>\n",
       "    .dataframe tbody tr th:only-of-type {\n",
       "        vertical-align: middle;\n",
       "    }\n",
       "\n",
       "    .dataframe tbody tr th {\n",
       "        vertical-align: top;\n",
       "    }\n",
       "\n",
       "    .dataframe thead th {\n",
       "        text-align: right;\n",
       "    }\n",
       "</style>\n",
       "<table border=\"1\" class=\"dataframe\">\n",
       "  <thead>\n",
       "    <tr style=\"text-align: right;\">\n",
       "      <th></th>\n",
       "      <th>Country</th>\n",
       "      <th>Continent</th>\n",
       "      <th>Population</th>\n",
       "      <th>Area</th>\n",
       "    </tr>\n",
       "  </thead>\n",
       "  <tbody>\n",
       "    <tr>\n",
       "      <td>0</td>\n",
       "      <td>Albania</td>\n",
       "      <td>Europe</td>\n",
       "      <td>3.000</td>\n",
       "      <td>11100.0</td>\n",
       "    </tr>\n",
       "    <tr>\n",
       "      <td>1</td>\n",
       "      <td>Algeria</td>\n",
       "      <td>Africa</td>\n",
       "      <td>38.300</td>\n",
       "      <td>919595.0</td>\n",
       "    </tr>\n",
       "    <tr>\n",
       "      <td>2</td>\n",
       "      <td>Andorra</td>\n",
       "      <td>Europe</td>\n",
       "      <td>0.085</td>\n",
       "      <td>181.0</td>\n",
       "    </tr>\n",
       "    <tr>\n",
       "      <td>3</td>\n",
       "      <td>Angola</td>\n",
       "      <td>Africa</td>\n",
       "      <td>19.100</td>\n",
       "      <td>481354.0</td>\n",
       "    </tr>\n",
       "    <tr>\n",
       "      <td>4</td>\n",
       "      <td>Antigua and Barbuda</td>\n",
       "      <td>North America</td>\n",
       "      <td>0.091</td>\n",
       "      <td>108.0</td>\n",
       "    </tr>\n",
       "    <tr>\n",
       "      <td>5</td>\n",
       "      <td>Argentina</td>\n",
       "      <td>South America</td>\n",
       "      <td>44.000</td>\n",
       "      <td>1068302.0</td>\n",
       "    </tr>\n",
       "    <tr>\n",
       "      <td>6</td>\n",
       "      <td>Armenia</td>\n",
       "      <td>Asia</td>\n",
       "      <td>3.100</td>\n",
       "      <td>11506.0</td>\n",
       "    </tr>\n",
       "    <tr>\n",
       "      <td>7</td>\n",
       "      <td>Australia</td>\n",
       "      <td>Australia/Oceania</td>\n",
       "      <td>22.500</td>\n",
       "      <td>2967909.0</td>\n",
       "    </tr>\n",
       "    <tr>\n",
       "      <td>8</td>\n",
       "      <td>Austria</td>\n",
       "      <td>Europe</td>\n",
       "      <td>8.200</td>\n",
       "      <td>32383.0</td>\n",
       "    </tr>\n",
       "    <tr>\n",
       "      <td>9</td>\n",
       "      <td>Azerbaijan</td>\n",
       "      <td>Asia</td>\n",
       "      <td>9.700</td>\n",
       "      <td>33436.0</td>\n",
       "    </tr>\n",
       "  </tbody>\n",
       "</table>\n",
       "</div>"
      ],
      "text/plain": [
       "               Country          Continent  Population       Area\n",
       "0              Albania             Europe       3.000    11100.0\n",
       "1              Algeria             Africa      38.300   919595.0\n",
       "2              Andorra             Europe       0.085      181.0\n",
       "3               Angola             Africa      19.100   481354.0\n",
       "4  Antigua and Barbuda      North America       0.091      108.0\n",
       "5            Argentina      South America      44.000  1068302.0\n",
       "6              Armenia               Asia       3.100    11506.0\n",
       "7            Australia  Australia/Oceania      22.500  2967909.0\n",
       "8              Austria             Europe       8.200    32383.0\n",
       "9           Azerbaijan               Asia       9.700    33436.0"
      ]
     },
     "execution_count": 74,
     "metadata": {},
     "output_type": "execute_result"
    }
   ],
   "source": [
    "# See top 10 records of Country DataFrame\n",
    "country.head(10)"
   ]
  },
  {
   "cell_type": "code",
   "execution_count": 75,
   "metadata": {},
   "outputs": [
    {
     "data": {
      "text/html": [
       "<div>\n",
       "<style scoped>\n",
       "    .dataframe tbody tr th:only-of-type {\n",
       "        vertical-align: middle;\n",
       "    }\n",
       "\n",
       "    .dataframe tbody tr th {\n",
       "        vertical-align: top;\n",
       "    }\n",
       "\n",
       "    .dataframe thead th {\n",
       "        text-align: right;\n",
       "    }\n",
       "</style>\n",
       "<table border=\"1\" class=\"dataframe\">\n",
       "  <thead>\n",
       "    <tr style=\"text-align: right;\">\n",
       "      <th></th>\n",
       "      <th>Country</th>\n",
       "      <th>Continent</th>\n",
       "      <th>Population</th>\n",
       "      <th>Area</th>\n",
       "    </tr>\n",
       "  </thead>\n",
       "  <tbody>\n",
       "    <tr>\n",
       "      <td>182</td>\n",
       "      <td>United Republic of Tanzania</td>\n",
       "      <td>Africa</td>\n",
       "      <td>50.00</td>\n",
       "      <td>364898.0</td>\n",
       "    </tr>\n",
       "    <tr>\n",
       "      <td>183</td>\n",
       "      <td>United States</td>\n",
       "      <td>North America</td>\n",
       "      <td>318.90</td>\n",
       "      <td>3794066.0</td>\n",
       "    </tr>\n",
       "    <tr>\n",
       "      <td>184</td>\n",
       "      <td>Uruguay</td>\n",
       "      <td>South America</td>\n",
       "      <td>3.30</td>\n",
       "      <td>68037.0</td>\n",
       "    </tr>\n",
       "    <tr>\n",
       "      <td>185</td>\n",
       "      <td>Uzbekistan</td>\n",
       "      <td>Asia</td>\n",
       "      <td>28.90</td>\n",
       "      <td>172742.0</td>\n",
       "    </tr>\n",
       "    <tr>\n",
       "      <td>186</td>\n",
       "      <td>Vanuatu</td>\n",
       "      <td>Australia/Oceania</td>\n",
       "      <td>0.27</td>\n",
       "      <td>4706.0</td>\n",
       "    </tr>\n",
       "    <tr>\n",
       "      <td>187</td>\n",
       "      <td>Venezuela</td>\n",
       "      <td>South America</td>\n",
       "      <td>28.90</td>\n",
       "      <td>353841.0</td>\n",
       "    </tr>\n",
       "    <tr>\n",
       "      <td>188</td>\n",
       "      <td>Vietnam</td>\n",
       "      <td>Asia</td>\n",
       "      <td>93.40</td>\n",
       "      <td>128527.0</td>\n",
       "    </tr>\n",
       "    <tr>\n",
       "      <td>189</td>\n",
       "      <td>Yemen</td>\n",
       "      <td>Asia</td>\n",
       "      <td>26.10</td>\n",
       "      <td>203849.0</td>\n",
       "    </tr>\n",
       "    <tr>\n",
       "      <td>190</td>\n",
       "      <td>Zambia</td>\n",
       "      <td>Africa</td>\n",
       "      <td>14.70</td>\n",
       "      <td>290587.0</td>\n",
       "    </tr>\n",
       "    <tr>\n",
       "      <td>191</td>\n",
       "      <td>Zimbabwe</td>\n",
       "      <td>Africa</td>\n",
       "      <td>13.80</td>\n",
       "      <td>150871.0</td>\n",
       "    </tr>\n",
       "  </tbody>\n",
       "</table>\n",
       "</div>"
      ],
      "text/plain": [
       "                         Country          Continent  Population       Area\n",
       "182  United Republic of Tanzania             Africa       50.00   364898.0\n",
       "183                United States      North America      318.90  3794066.0\n",
       "184                      Uruguay      South America        3.30    68037.0\n",
       "185                   Uzbekistan               Asia       28.90   172742.0\n",
       "186                      Vanuatu  Australia/Oceania        0.27     4706.0\n",
       "187                    Venezuela      South America       28.90   353841.0\n",
       "188                      Vietnam               Asia       93.40   128527.0\n",
       "189                        Yemen               Asia       26.10   203849.0\n",
       "190                       Zambia             Africa       14.70   290587.0\n",
       "191                     Zimbabwe             Africa       13.80   150871.0"
      ]
     },
     "execution_count": 75,
     "metadata": {},
     "output_type": "execute_result"
    }
   ],
   "source": [
    "# See last 10 records of Country DataFrame\n",
    "country.tail(10)"
   ]
  },
  {
   "cell_type": "markdown",
   "metadata": {},
   "source": [
    "## Create DataFrame from Excel-file\n",
    "Another way to create a DataFrame is by importing a Excel file using Pandas. The excel file is stored and can be imported using pd.read_excle():"
   ]
  },
  {
   "cell_type": "code",
   "execution_count": 135,
   "metadata": {},
   "outputs": [
    {
     "name": "stdout",
     "output_type": "stream",
     "text": [
      "    Year       India  India Percent       China  China Percent        USA  \\\n",
      "0   2010  1234281170       0.085719  1337705000       0.088686  309321666   \n",
      "1   2011  1250288729       0.086831  1344130000       0.089112  311556874   \n",
      "2   2012  1265782790       0.087907  1350695000       0.089547  313830990   \n",
      "3   2013  1280846129       0.088953  1357380000       0.089991  315993715   \n",
      "4   2014  1295604184       0.089978  1364270000       0.090447  318301008   \n",
      "5   2015  1310152403       0.090988  1371220000       0.090908  320635163   \n",
      "6   2016  1324509589       0.091985  1378665000       0.091402  322941311   \n",
      "7   2017  1338658835       0.092968  1386395000       0.091914  324985539   \n",
      "8   2018  1352617328       0.093937  1392730000       0.092334  326687501   \n",
      "9   2019  1366417754       0.094896  1397715000       0.092665  328239523   \n",
      "10  2020  1380004000       0.095839  1402667000       0.092993  330139000   \n",
      "\n",
      "    USA Percent  \n",
      "0      0.087810  \n",
      "1      0.088444  \n",
      "2      0.089090  \n",
      "3      0.089704  \n",
      "4      0.090359  \n",
      "5      0.091021  \n",
      "6      0.091676  \n",
      "7      0.092256  \n",
      "8      0.092740  \n",
      "9      0.093180  \n",
      "10     0.093719  \n"
     ]
    }
   ],
   "source": [
    "# Import the Countries from UN.txt file\n",
    "pop = pd.read_excel('Population.xlsx')\n",
    "\n",
    "# Print out countries\n",
    "print(pop)"
   ]
  },
  {
   "cell_type": "markdown",
   "metadata": {},
   "source": [
    "## Indexing DataFrames\n",
    "There are several ways to index a Pandas DataFrame. One of the easiest ways to do this is by using square bracket notation.\n",
    "\n",
    "In the example below, you can use square brackets to select one column of the country DataFrame. You can either use a single bracket or a double bracket. The single bracket with output a Pandas Series, while a double bracket will output a Pandas DataFrame."
   ]
  },
  {
   "cell_type": "code",
   "execution_count": 76,
   "metadata": {
    "scrolled": true
   },
   "outputs": [
    {
     "name": "stdout",
     "output_type": "stream",
     "text": [
      "0                  Albania\n",
      "1                  Algeria\n",
      "2                  Andorra\n",
      "3                   Angola\n",
      "4      Antigua and Barbuda\n",
      "              ...         \n",
      "187              Venezuela\n",
      "188                Vietnam\n",
      "189                  Yemen\n",
      "190                 Zambia\n",
      "191               Zimbabwe\n",
      "Name: Country, Length: 192, dtype: object\n",
      "                 Country\n",
      "0                Albania\n",
      "1                Algeria\n",
      "2                Andorra\n",
      "3                 Angola\n",
      "4    Antigua and Barbuda\n",
      "..                   ...\n",
      "187            Venezuela\n",
      "188              Vietnam\n",
      "189                Yemen\n",
      "190               Zambia\n",
      "191             Zimbabwe\n",
      "\n",
      "[192 rows x 1 columns]\n",
      "                 Country      Continent\n",
      "0                Albania         Europe\n",
      "1                Algeria         Africa\n",
      "2                Andorra         Europe\n",
      "3                 Angola         Africa\n",
      "4    Antigua and Barbuda  North America\n",
      "..                   ...            ...\n",
      "187            Venezuela  South America\n",
      "188              Vietnam           Asia\n",
      "189                Yemen           Asia\n",
      "190               Zambia         Africa\n",
      "191             Zimbabwe         Africa\n",
      "\n",
      "[192 rows x 2 columns]\n"
     ]
    }
   ],
   "source": [
    "# Print out country column as Pandas Series\n",
    "print(country['Country'])\n",
    "\n",
    "# Print out country column as Pandas DataFrame\n",
    "print(country[['Country']])\n",
    "\n",
    "# Print out DataFrame with Country Name and Continent columns\n",
    "print(country[['Country', 'Continent']])"
   ]
  },
  {
   "cell_type": "code",
   "execution_count": 66,
   "metadata": {},
   "outputs": [
    {
     "name": "stdout",
     "output_type": "stream",
     "text": [
      "0             Europe\n",
      "1             Africa\n",
      "2             Europe\n",
      "3             Africa\n",
      "4      North America\n",
      "           ...      \n",
      "187    South America\n",
      "188             Asia\n",
      "189             Asia\n",
      "190           Africa\n",
      "191           Africa\n",
      "Name: Continent, Length: 192, dtype: object\n",
      "\n",
      "\n",
      "0       11100.0\n",
      "1      919595.0\n",
      "2         181.0\n",
      "3      481354.0\n",
      "4         108.0\n",
      "         ...   \n",
      "187    353841.0\n",
      "188    128527.0\n",
      "189    203849.0\n",
      "190    290587.0\n",
      "191    150871.0\n",
      "Name: Area, Length: 192, dtype: float64\n"
     ]
    }
   ],
   "source": [
    "# Print out country column as an object property reference\n",
    "print(country.Continent)\n",
    "\n",
    "print(\"\\n\")\n",
    "# Print out country column by index operator\n",
    "print(country['Area'])\n"
   ]
  },
  {
   "cell_type": "code",
   "execution_count": 16,
   "metadata": {},
   "outputs": [
    {
     "name": "stdout",
     "output_type": "stream",
     "text": [
      "  Country Name Continent  Population      Area\n",
      "0      Albania    Europe       3.000   11100.0\n",
      "1      Algeria    Africa      38.300  919595.0\n",
      "2      Andorra    Europe       0.085     181.0\n",
      "3       Angola    Africa      19.100  481354.0\n",
      "\n",
      "\n",
      "          Country Name      Continent  Population       Area\n",
      "4  Antigua and Barbuda  North America       0.091      108.0\n",
      "5            Argentina  South America      44.000  1068302.0\n"
     ]
    }
   ],
   "source": [
    "# Square brackets can also be used to access observations (rows) from a DataFrame. For example:\n",
    "# Print out first 4 observations\n",
    "print(country[0:4])\n",
    "\n",
    "print(\"\\n\")\n",
    "# Print out fifth and sixth observation\n",
    "print(country[4:6])"
   ]
  },
  {
   "cell_type": "markdown",
   "metadata": {},
   "source": [
    "You can also use <b>loc</b> and <b>iloc</b> to perform just about any data selection operation. <b>loc</b> is label-based, which means that you have to specify rows and columns based on their row and column labels. <b>iloc</b> is integer index based, so you have to specify rows and columns by their integer index like you did in the previous exercise.\n",
    "\n",
    "Both <b>loc</b> and <b>iloc</b> are row-first, column-second. This is the opposite of what we do in native Python, which is column-first, row-second."
   ]
  },
  {
   "cell_type": "code",
   "execution_count": 77,
   "metadata": {
    "scrolled": true
   },
   "outputs": [
    {
     "name": "stdout",
     "output_type": "stream",
     "text": [
      "   Country Continent  Population      Area\n",
      "0  Albania    Europe       3.000   11100.0\n",
      "1  Algeria    Africa      38.300  919595.0\n",
      "2  Andorra    Europe       0.085     181.0\n",
      "3   Angola    Africa      19.100  481354.0\n",
      "\n",
      "\n",
      "               Country      Continent\n",
      "4  Antigua and Barbuda  North America\n",
      "5            Argentina  South America\n",
      "6              Armenia           Asia\n",
      "\n",
      "\n",
      "               Country      Continent\n",
      "4  Antigua and Barbuda  North America\n",
      "5            Argentina  South America\n"
     ]
    }
   ],
   "source": [
    "# Print out first 4 observations\n",
    "print(country.iloc[0:4])\n",
    "\n",
    "print(\"\\n\")\n",
    "# Print out fifth and sixth observation from ['Country Name', 'Continent'] columns\n",
    "print(country.loc[4:6, ['Country', 'Continent']])\n",
    "\n",
    "print(\"\\n\")\n",
    "# Print out fifth and sixth observation from ['Country Name', 'Continent'] columns\n",
    "print(country.iloc[4:6, 0:2])\n"
   ]
  },
  {
   "cell_type": "markdown",
   "metadata": {},
   "source": [
    "## Conditional selection\n",
    "So far we've been indexing various strides of data, using structural properties of the DataFrame itself. To do interesting things with the data, however, we often need to ask questions based on conditions.\n",
    "\n",
    "For example, suppose that we're interested specifically in Italy.\n",
    "\n",
    "We can start by checking informaton about Italy:"
   ]
  },
  {
   "cell_type": "code",
   "execution_count": 78,
   "metadata": {},
   "outputs": [
    {
     "data": {
      "text/plain": [
       "0      False\n",
       "1      False\n",
       "2      False\n",
       "3      False\n",
       "4      False\n",
       "       ...  \n",
       "187    False\n",
       "188    False\n",
       "189    False\n",
       "190    False\n",
       "191    False\n",
       "Name: Country, Length: 192, dtype: bool"
      ]
     },
     "execution_count": 78,
     "metadata": {},
     "output_type": "execute_result"
    }
   ],
   "source": [
    "country.Country == 'Italy'"
   ]
  },
  {
   "cell_type": "markdown",
   "metadata": {},
   "source": [
    "This operation produced a Series of True/False booleans based on the country of each record. This result can then be used inside of loc to select the relevant data:"
   ]
  },
  {
   "cell_type": "code",
   "execution_count": 81,
   "metadata": {},
   "outputs": [
    {
     "data": {
      "text/html": [
       "<div>\n",
       "<style scoped>\n",
       "    .dataframe tbody tr th:only-of-type {\n",
       "        vertical-align: middle;\n",
       "    }\n",
       "\n",
       "    .dataframe tbody tr th {\n",
       "        vertical-align: top;\n",
       "    }\n",
       "\n",
       "    .dataframe thead th {\n",
       "        text-align: right;\n",
       "    }\n",
       "</style>\n",
       "<table border=\"1\" class=\"dataframe\">\n",
       "  <thead>\n",
       "    <tr style=\"text-align: right;\">\n",
       "      <th></th>\n",
       "      <th>Country</th>\n",
       "      <th>Continent</th>\n",
       "      <th>Population</th>\n",
       "      <th>Area</th>\n",
       "    </tr>\n",
       "  </thead>\n",
       "  <tbody>\n",
       "    <tr>\n",
       "      <td>12</td>\n",
       "      <td>Bangladesh</td>\n",
       "      <td>Asia</td>\n",
       "      <td>166.3</td>\n",
       "      <td>55599.0</td>\n",
       "    </tr>\n",
       "    <tr>\n",
       "      <td>34</td>\n",
       "      <td>China</td>\n",
       "      <td>Asia</td>\n",
       "      <td>1355.7</td>\n",
       "      <td>3696100.0</td>\n",
       "    </tr>\n",
       "    <tr>\n",
       "      <td>74</td>\n",
       "      <td>India</td>\n",
       "      <td>Asia</td>\n",
       "      <td>1236.3</td>\n",
       "      <td>1269210.0</td>\n",
       "    </tr>\n",
       "    <tr>\n",
       "      <td>75</td>\n",
       "      <td>Indonesia</td>\n",
       "      <td>Asia</td>\n",
       "      <td>253.6</td>\n",
       "      <td>735355.0</td>\n",
       "    </tr>\n",
       "    <tr>\n",
       "      <td>82</td>\n",
       "      <td>Japan</td>\n",
       "      <td>Asia</td>\n",
       "      <td>127.1</td>\n",
       "      <td>145883.0</td>\n",
       "    </tr>\n",
       "    <tr>\n",
       "      <td>125</td>\n",
       "      <td>Pakistan</td>\n",
       "      <td>Asia</td>\n",
       "      <td>196.2</td>\n",
       "      <td>310403.0</td>\n",
       "    </tr>\n",
       "    <tr>\n",
       "      <td>131</td>\n",
       "      <td>Philippines</td>\n",
       "      <td>Asia</td>\n",
       "      <td>107.7</td>\n",
       "      <td>115831.0</td>\n",
       "    </tr>\n",
       "  </tbody>\n",
       "</table>\n",
       "</div>"
      ],
      "text/plain": [
       "         Country Continent  Population       Area\n",
       "12    Bangladesh      Asia       166.3    55599.0\n",
       "34         China      Asia      1355.7  3696100.0\n",
       "74         India      Asia      1236.3  1269210.0\n",
       "75     Indonesia      Asia       253.6   735355.0\n",
       "82         Japan      Asia       127.1   145883.0\n",
       "125     Pakistan      Asia       196.2   310403.0\n",
       "131  Philippines      Asia       107.7   115831.0"
      ]
     },
     "execution_count": 81,
     "metadata": {},
     "output_type": "execute_result"
    }
   ],
   "source": [
    "country.loc[(country.Continent == 'Asia') & (country.Population > 100) ]"
   ]
  },
  {
   "cell_type": "code",
   "execution_count": 82,
   "metadata": {},
   "outputs": [
    {
     "data": {
      "text/html": [
       "<div>\n",
       "<style scoped>\n",
       "    .dataframe tbody tr th:only-of-type {\n",
       "        vertical-align: middle;\n",
       "    }\n",
       "\n",
       "    .dataframe tbody tr th {\n",
       "        vertical-align: top;\n",
       "    }\n",
       "\n",
       "    .dataframe thead th {\n",
       "        text-align: right;\n",
       "    }\n",
       "</style>\n",
       "<table border=\"1\" class=\"dataframe\">\n",
       "  <thead>\n",
       "    <tr style=\"text-align: right;\">\n",
       "      <th></th>\n",
       "      <th>Country</th>\n",
       "      <th>Continent</th>\n",
       "      <th>Population</th>\n",
       "      <th>Area</th>\n",
       "    </tr>\n",
       "  </thead>\n",
       "  <tbody>\n",
       "    <tr>\n",
       "      <td>12</td>\n",
       "      <td>Bangladesh</td>\n",
       "      <td>Asia</td>\n",
       "      <td>166.3</td>\n",
       "      <td>55599.0</td>\n",
       "    </tr>\n",
       "    <tr>\n",
       "      <td>34</td>\n",
       "      <td>China</td>\n",
       "      <td>Asia</td>\n",
       "      <td>1355.7</td>\n",
       "      <td>3696100.0</td>\n",
       "    </tr>\n",
       "    <tr>\n",
       "      <td>74</td>\n",
       "      <td>India</td>\n",
       "      <td>Asia</td>\n",
       "      <td>1236.3</td>\n",
       "      <td>1269210.0</td>\n",
       "    </tr>\n",
       "    <tr>\n",
       "      <td>75</td>\n",
       "      <td>Indonesia</td>\n",
       "      <td>Asia</td>\n",
       "      <td>253.6</td>\n",
       "      <td>735355.0</td>\n",
       "    </tr>\n",
       "    <tr>\n",
       "      <td>82</td>\n",
       "      <td>Japan</td>\n",
       "      <td>Asia</td>\n",
       "      <td>127.1</td>\n",
       "      <td>145883.0</td>\n",
       "    </tr>\n",
       "    <tr>\n",
       "      <td>125</td>\n",
       "      <td>Pakistan</td>\n",
       "      <td>Asia</td>\n",
       "      <td>196.2</td>\n",
       "      <td>310403.0</td>\n",
       "    </tr>\n",
       "    <tr>\n",
       "      <td>131</td>\n",
       "      <td>Philippines</td>\n",
       "      <td>Asia</td>\n",
       "      <td>107.7</td>\n",
       "      <td>115831.0</td>\n",
       "    </tr>\n",
       "  </tbody>\n",
       "</table>\n",
       "</div>"
      ],
      "text/plain": [
       "         Country Continent  Population       Area\n",
       "12    Bangladesh      Asia       166.3    55599.0\n",
       "34         China      Asia      1355.7  3696100.0\n",
       "74         India      Asia      1236.3  1269210.0\n",
       "75     Indonesia      Asia       253.6   735355.0\n",
       "82         Japan      Asia       127.1   145883.0\n",
       "125     Pakistan      Asia       196.2   310403.0\n",
       "131  Philippines      Asia       107.7   115831.0"
      ]
     },
     "execution_count": 82,
     "metadata": {},
     "output_type": "execute_result"
    }
   ],
   "source": [
    "country[(country['Continent'] == 'Asia') & (country['Population'] > 100) ]"
   ]
  },
  {
   "cell_type": "markdown",
   "metadata": {},
   "source": [
    "## Checking for null or na values "
   ]
  },
  {
   "cell_type": "code",
   "execution_count": 86,
   "metadata": {
    "scrolled": true
   },
   "outputs": [
    {
     "data": {
      "text/html": [
       "<div>\n",
       "<style scoped>\n",
       "    .dataframe tbody tr th:only-of-type {\n",
       "        vertical-align: middle;\n",
       "    }\n",
       "\n",
       "    .dataframe tbody tr th {\n",
       "        vertical-align: top;\n",
       "    }\n",
       "\n",
       "    .dataframe thead th {\n",
       "        text-align: right;\n",
       "    }\n",
       "</style>\n",
       "<table border=\"1\" class=\"dataframe\">\n",
       "  <thead>\n",
       "    <tr style=\"text-align: right;\">\n",
       "      <th></th>\n",
       "      <th>Country</th>\n",
       "      <th>Continent</th>\n",
       "      <th>Population</th>\n",
       "      <th>Area</th>\n",
       "    </tr>\n",
       "  </thead>\n",
       "  <tbody>\n",
       "    <tr>\n",
       "      <td>0</td>\n",
       "      <td>False</td>\n",
       "      <td>False</td>\n",
       "      <td>False</td>\n",
       "      <td>False</td>\n",
       "    </tr>\n",
       "    <tr>\n",
       "      <td>1</td>\n",
       "      <td>False</td>\n",
       "      <td>False</td>\n",
       "      <td>False</td>\n",
       "      <td>False</td>\n",
       "    </tr>\n",
       "    <tr>\n",
       "      <td>2</td>\n",
       "      <td>False</td>\n",
       "      <td>False</td>\n",
       "      <td>False</td>\n",
       "      <td>False</td>\n",
       "    </tr>\n",
       "    <tr>\n",
       "      <td>3</td>\n",
       "      <td>False</td>\n",
       "      <td>False</td>\n",
       "      <td>False</td>\n",
       "      <td>False</td>\n",
       "    </tr>\n",
       "    <tr>\n",
       "      <td>4</td>\n",
       "      <td>False</td>\n",
       "      <td>False</td>\n",
       "      <td>False</td>\n",
       "      <td>False</td>\n",
       "    </tr>\n",
       "    <tr>\n",
       "      <td>...</td>\n",
       "      <td>...</td>\n",
       "      <td>...</td>\n",
       "      <td>...</td>\n",
       "      <td>...</td>\n",
       "    </tr>\n",
       "    <tr>\n",
       "      <td>187</td>\n",
       "      <td>False</td>\n",
       "      <td>False</td>\n",
       "      <td>False</td>\n",
       "      <td>False</td>\n",
       "    </tr>\n",
       "    <tr>\n",
       "      <td>188</td>\n",
       "      <td>False</td>\n",
       "      <td>False</td>\n",
       "      <td>False</td>\n",
       "      <td>False</td>\n",
       "    </tr>\n",
       "    <tr>\n",
       "      <td>189</td>\n",
       "      <td>False</td>\n",
       "      <td>False</td>\n",
       "      <td>False</td>\n",
       "      <td>False</td>\n",
       "    </tr>\n",
       "    <tr>\n",
       "      <td>190</td>\n",
       "      <td>False</td>\n",
       "      <td>False</td>\n",
       "      <td>False</td>\n",
       "      <td>False</td>\n",
       "    </tr>\n",
       "    <tr>\n",
       "      <td>191</td>\n",
       "      <td>False</td>\n",
       "      <td>False</td>\n",
       "      <td>False</td>\n",
       "      <td>False</td>\n",
       "    </tr>\n",
       "  </tbody>\n",
       "</table>\n",
       "<p>192 rows × 4 columns</p>\n",
       "</div>"
      ],
      "text/plain": [
       "     Country  Continent  Population   Area\n",
       "0      False      False       False  False\n",
       "1      False      False       False  False\n",
       "2      False      False       False  False\n",
       "3      False      False       False  False\n",
       "4      False      False       False  False\n",
       "..       ...        ...         ...    ...\n",
       "187    False      False       False  False\n",
       "188    False      False       False  False\n",
       "189    False      False       False  False\n",
       "190    False      False       False  False\n",
       "191    False      False       False  False\n",
       "\n",
       "[192 rows x 4 columns]"
      ]
     },
     "execution_count": 86,
     "metadata": {},
     "output_type": "execute_result"
    }
   ],
   "source": [
    "country.isnull()"
   ]
  },
  {
   "cell_type": "code",
   "execution_count": 87,
   "metadata": {},
   "outputs": [
    {
     "data": {
      "text/plain": [
       "Country       0\n",
       "Continent     0\n",
       "Population    0\n",
       "Area          0\n",
       "dtype: int64"
      ]
     },
     "execution_count": 87,
     "metadata": {},
     "output_type": "execute_result"
    }
   ],
   "source": [
    "country.isnull().sum()"
   ]
  },
  {
   "cell_type": "code",
   "execution_count": 85,
   "metadata": {
    "scrolled": true
   },
   "outputs": [
    {
     "data": {
      "text/plain": [
       "Country       0\n",
       "Continent     0\n",
       "Population    0\n",
       "Area          0\n",
       "dtype: int64"
      ]
     },
     "execution_count": 85,
     "metadata": {},
     "output_type": "execute_result"
    }
   ],
   "source": [
    "country.isna().sum()"
   ]
  },
  {
   "cell_type": "markdown",
   "metadata": {},
   "source": [
    "But why have two methods with different names do the same thing?\n",
    "This is because pandas' DataFrames are based on R's DataFrames. In R na and null are two separate things. \n",
    "\n",
    "However, in python, pandas is built on top of numpy, which has neither na nor null values. Instead numpy has NaN values (which stands for \"Not a Number\"). Consequently, pandas also uses NaN values.\n",
    "\n",
    "In short\n",
    "To detect NaN values numpy uses np.isnan().\n",
    "\n",
    "To detect NaN values pandas uses either .isna() or .isnull().\n",
    "The NaN values are inherited from the fact that pandas is built on top of numpy, while the two functions' names originate from R's DataFrames, whose structure and functionality pandas tried to mimic."
   ]
  },
  {
   "cell_type": "markdown",
   "metadata": {},
   "source": [
    "## Groupwise analysis¶\n",
    "Often we want to group our data, and then do something specific to the group the data is in.\n",
    "\n",
    "We can do this with the <b>groupby()</b> function as it will be shown below. We'll also cover some additional topics, such as additional operation of data and application lambda function, and create new column."
   ]
  },
  {
   "cell_type": "code",
   "execution_count": 92,
   "metadata": {
    "scrolled": false
   },
   "outputs": [
    {
     "data": {
      "text/plain": [
       "Country       192\n",
       "Continent     192\n",
       "Population    192\n",
       "Area          192\n",
       "dtype: int64"
      ]
     },
     "execution_count": 92,
     "metadata": {},
     "output_type": "execute_result"
    }
   ],
   "source": [
    "# Count records ins each column\n",
    "country.count()"
   ]
  },
  {
   "cell_type": "code",
   "execution_count": 93,
   "metadata": {},
   "outputs": [
    {
     "data": {
      "text/plain": [
       "268638.3461458334"
      ]
     },
     "execution_count": 93,
     "metadata": {},
     "output_type": "execute_result"
    }
   ],
   "source": [
    "# Get Average Area\n",
    "country.Area.mean()"
   ]
  },
  {
   "cell_type": "code",
   "execution_count": 94,
   "metadata": {},
   "outputs": [
    {
     "data": {
      "text/plain": [
       "262061.22173913041"
      ]
     },
     "execution_count": 94,
     "metadata": {},
     "output_type": "execute_result"
    }
   ],
   "source": [
    "# Get Average Area for Asia\n",
    "country[country['Continent'] == 'Asia'].Area.mean()"
   ]
  },
  {
   "cell_type": "code",
   "execution_count": 97,
   "metadata": {},
   "outputs": [
    {
     "data": {
      "text/plain": [
       "Continent\n",
       "Africa               219275.240741\n",
       "Asia                 262061.221739\n",
       "Australia/Oceania    233168.000000\n",
       "Europe               206693.215349\n",
       "North America        378141.347826\n",
       "South America        569456.000000\n",
       "Name: Area, dtype: float64"
      ]
     },
     "execution_count": 97,
     "metadata": {},
     "output_type": "execute_result"
    }
   ],
   "source": [
    "country.groupby('Continent').Area.mean()"
   ]
  },
  {
   "cell_type": "code",
   "execution_count": 95,
   "metadata": {},
   "outputs": [
    {
     "data": {
      "text/html": [
       "<div>\n",
       "<style scoped>\n",
       "    .dataframe tbody tr th:only-of-type {\n",
       "        vertical-align: middle;\n",
       "    }\n",
       "\n",
       "    .dataframe tbody tr th {\n",
       "        vertical-align: top;\n",
       "    }\n",
       "\n",
       "    .dataframe thead th {\n",
       "        text-align: right;\n",
       "    }\n",
       "</style>\n",
       "<table border=\"1\" class=\"dataframe\">\n",
       "  <thead>\n",
       "    <tr style=\"text-align: right;\">\n",
       "      <th></th>\n",
       "      <th>Population</th>\n",
       "      <th>Area</th>\n",
       "    </tr>\n",
       "    <tr>\n",
       "      <th>Continent</th>\n",
       "      <th></th>\n",
       "      <th></th>\n",
       "    </tr>\n",
       "  </thead>\n",
       "  <tbody>\n",
       "    <tr>\n",
       "      <td>Africa</td>\n",
       "      <td>20.817074</td>\n",
       "      <td>219275.240741</td>\n",
       "    </tr>\n",
       "    <tr>\n",
       "      <td>Asia</td>\n",
       "      <td>92.146522</td>\n",
       "      <td>262061.221739</td>\n",
       "    </tr>\n",
       "    <tr>\n",
       "      <td>Australia/Oceania</td>\n",
       "      <td>2.565179</td>\n",
       "      <td>233168.000000</td>\n",
       "    </tr>\n",
       "    <tr>\n",
       "      <td>Europe</td>\n",
       "      <td>17.315721</td>\n",
       "      <td>206693.215349</td>\n",
       "    </tr>\n",
       "    <tr>\n",
       "      <td>North America</td>\n",
       "      <td>24.140696</td>\n",
       "      <td>378141.347826</td>\n",
       "    </tr>\n",
       "    <tr>\n",
       "      <td>South America</td>\n",
       "      <td>33.767500</td>\n",
       "      <td>569456.000000</td>\n",
       "    </tr>\n",
       "  </tbody>\n",
       "</table>\n",
       "</div>"
      ],
      "text/plain": [
       "                   Population           Area\n",
       "Continent                                   \n",
       "Africa              20.817074  219275.240741\n",
       "Asia                92.146522  262061.221739\n",
       "Australia/Oceania    2.565179  233168.000000\n",
       "Europe              17.315721  206693.215349\n",
       "North America       24.140696  378141.347826\n",
       "South America       33.767500  569456.000000"
      ]
     },
     "execution_count": 95,
     "metadata": {},
     "output_type": "execute_result"
    }
   ],
   "source": [
    "country.groupby('Continent').mean()"
   ]
  },
  {
   "cell_type": "code",
   "execution_count": 96,
   "metadata": {},
   "outputs": [
    {
     "data": {
      "text/plain": [
       "Population         2.565179\n",
       "Area          206693.215349\n",
       "dtype: float64"
      ]
     },
     "execution_count": 96,
     "metadata": {},
     "output_type": "execute_result"
    }
   ],
   "source": [
    "country.groupby('Continent').mean().min()"
   ]
  },
  {
   "cell_type": "code",
   "execution_count": 103,
   "metadata": {
    "scrolled": false
   },
   "outputs": [
    {
     "data": {
      "text/html": [
       "<div>\n",
       "<style scoped>\n",
       "    .dataframe tbody tr th:only-of-type {\n",
       "        vertical-align: middle;\n",
       "    }\n",
       "\n",
       "    .dataframe tbody tr th {\n",
       "        vertical-align: top;\n",
       "    }\n",
       "\n",
       "    .dataframe thead th {\n",
       "        text-align: right;\n",
       "    }\n",
       "</style>\n",
       "<table border=\"1\" class=\"dataframe\">\n",
       "  <thead>\n",
       "    <tr style=\"text-align: right;\">\n",
       "      <th></th>\n",
       "      <th>Country</th>\n",
       "      <th>Continent</th>\n",
       "      <th>Population</th>\n",
       "      <th>Area</th>\n",
       "      <th>Average Continent Area</th>\n",
       "      <th>Area in 1000s</th>\n",
       "    </tr>\n",
       "  </thead>\n",
       "  <tbody>\n",
       "    <tr>\n",
       "      <td>0</td>\n",
       "      <td>Albania</td>\n",
       "      <td>Europe</td>\n",
       "      <td>3.000</td>\n",
       "      <td>11100.0</td>\n",
       "      <td>0</td>\n",
       "      <td>0</td>\n",
       "    </tr>\n",
       "    <tr>\n",
       "      <td>1</td>\n",
       "      <td>Algeria</td>\n",
       "      <td>Africa</td>\n",
       "      <td>38.300</td>\n",
       "      <td>919595.0</td>\n",
       "      <td>0</td>\n",
       "      <td>0</td>\n",
       "    </tr>\n",
       "    <tr>\n",
       "      <td>2</td>\n",
       "      <td>Andorra</td>\n",
       "      <td>Europe</td>\n",
       "      <td>0.085</td>\n",
       "      <td>181.0</td>\n",
       "      <td>0</td>\n",
       "      <td>0</td>\n",
       "    </tr>\n",
       "    <tr>\n",
       "      <td>3</td>\n",
       "      <td>Angola</td>\n",
       "      <td>Africa</td>\n",
       "      <td>19.100</td>\n",
       "      <td>481354.0</td>\n",
       "      <td>0</td>\n",
       "      <td>0</td>\n",
       "    </tr>\n",
       "    <tr>\n",
       "      <td>4</td>\n",
       "      <td>Antigua and Barbuda</td>\n",
       "      <td>North America</td>\n",
       "      <td>0.091</td>\n",
       "      <td>108.0</td>\n",
       "      <td>0</td>\n",
       "      <td>0</td>\n",
       "    </tr>\n",
       "  </tbody>\n",
       "</table>\n",
       "</div>"
      ],
      "text/plain": [
       "               Country      Continent  Population      Area  \\\n",
       "0              Albania         Europe       3.000   11100.0   \n",
       "1              Algeria         Africa      38.300  919595.0   \n",
       "2              Andorra         Europe       0.085     181.0   \n",
       "3               Angola         Africa      19.100  481354.0   \n",
       "4  Antigua and Barbuda  North America       0.091     108.0   \n",
       "\n",
       "   Average Continent Area  Area in 1000s  \n",
       "0                       0              0  \n",
       "1                       0              0  \n",
       "2                       0              0  \n",
       "3                       0              0  \n",
       "4                       0              0  "
      ]
     },
     "execution_count": 103,
     "metadata": {},
     "output_type": "execute_result"
    }
   ],
   "source": [
    "# Create new column in the DataFrame\n",
    "country['Area in 1000''s'] = 0\n",
    "country['Average Continent Area'] = 0\n",
    "\n",
    "country.head(5)\n"
   ]
  },
  {
   "cell_type": "code",
   "execution_count": 116,
   "metadata": {},
   "outputs": [
    {
     "data": {
      "text/html": [
       "<div>\n",
       "<style scoped>\n",
       "    .dataframe tbody tr th:only-of-type {\n",
       "        vertical-align: middle;\n",
       "    }\n",
       "\n",
       "    .dataframe tbody tr th {\n",
       "        vertical-align: top;\n",
       "    }\n",
       "\n",
       "    .dataframe thead th {\n",
       "        text-align: right;\n",
       "    }\n",
       "</style>\n",
       "<table border=\"1\" class=\"dataframe\">\n",
       "  <thead>\n",
       "    <tr style=\"text-align: right;\">\n",
       "      <th></th>\n",
       "      <th>Country</th>\n",
       "      <th>Continent</th>\n",
       "      <th>Population</th>\n",
       "      <th>Area</th>\n",
       "      <th>Area in 1000s</th>\n",
       "      <th>Area 1000s</th>\n",
       "    </tr>\n",
       "  </thead>\n",
       "  <tbody>\n",
       "    <tr>\n",
       "      <td>0</td>\n",
       "      <td>Albania</td>\n",
       "      <td>Europe</td>\n",
       "      <td>3.000</td>\n",
       "      <td>11100.0</td>\n",
       "      <td>11.100</td>\n",
       "      <td>0.003000</td>\n",
       "    </tr>\n",
       "    <tr>\n",
       "      <td>1</td>\n",
       "      <td>Algeria</td>\n",
       "      <td>Africa</td>\n",
       "      <td>38.300</td>\n",
       "      <td>919595.0</td>\n",
       "      <td>919.595</td>\n",
       "      <td>0.038300</td>\n",
       "    </tr>\n",
       "    <tr>\n",
       "      <td>2</td>\n",
       "      <td>Andorra</td>\n",
       "      <td>Europe</td>\n",
       "      <td>0.085</td>\n",
       "      <td>181.0</td>\n",
       "      <td>0.181</td>\n",
       "      <td>0.000085</td>\n",
       "    </tr>\n",
       "    <tr>\n",
       "      <td>3</td>\n",
       "      <td>Angola</td>\n",
       "      <td>Africa</td>\n",
       "      <td>19.100</td>\n",
       "      <td>481354.0</td>\n",
       "      <td>481.354</td>\n",
       "      <td>0.019100</td>\n",
       "    </tr>\n",
       "    <tr>\n",
       "      <td>4</td>\n",
       "      <td>Antigua and Barbuda</td>\n",
       "      <td>North America</td>\n",
       "      <td>0.091</td>\n",
       "      <td>108.0</td>\n",
       "      <td>0.108</td>\n",
       "      <td>0.000091</td>\n",
       "    </tr>\n",
       "  </tbody>\n",
       "</table>\n",
       "</div>"
      ],
      "text/plain": [
       "               Country      Continent  Population      Area  Area in 1000s  \\\n",
       "0              Albania         Europe       3.000   11100.0         11.100   \n",
       "1              Algeria         Africa      38.300  919595.0        919.595   \n",
       "2              Andorra         Europe       0.085     181.0          0.181   \n",
       "3               Angola         Africa      19.100  481354.0        481.354   \n",
       "4  Antigua and Barbuda  North America       0.091     108.0          0.108   \n",
       "\n",
       "   Area 1000s  \n",
       "0    0.003000  \n",
       "1    0.038300  \n",
       "2    0.000085  \n",
       "3    0.019100  \n",
       "4    0.000091  "
      ]
     },
     "execution_count": 116,
     "metadata": {},
     "output_type": "execute_result"
    }
   ],
   "source": [
    "# Create new column in the DataFrame\n",
    "country['Area in 1000s'] = country.apply(lambda x: x.Area/1000, axis = 1)\n",
    "\n",
    "country.head(5)"
   ]
  },
  {
   "cell_type": "markdown",
   "metadata": {},
   "source": [
    "Another groupby() method worth mentioning is agg(), which lets you run a bunch of different functions on your DataFrame simultaneously. For example, we can generate a simple statistical summary of the dataset as follows:"
   ]
  },
  {
   "cell_type": "code",
   "execution_count": 120,
   "metadata": {},
   "outputs": [
    {
     "data": {
      "text/html": [
       "<div>\n",
       "<style scoped>\n",
       "    .dataframe tbody tr th:only-of-type {\n",
       "        vertical-align: middle;\n",
       "    }\n",
       "\n",
       "    .dataframe tbody tr th {\n",
       "        vertical-align: top;\n",
       "    }\n",
       "\n",
       "    .dataframe thead th {\n",
       "        text-align: right;\n",
       "    }\n",
       "</style>\n",
       "<table border=\"1\" class=\"dataframe\">\n",
       "  <thead>\n",
       "    <tr style=\"text-align: right;\">\n",
       "      <th></th>\n",
       "      <th>min</th>\n",
       "      <th>max</th>\n",
       "    </tr>\n",
       "    <tr>\n",
       "      <th>Continent</th>\n",
       "      <th></th>\n",
       "      <th></th>\n",
       "    </tr>\n",
       "  </thead>\n",
       "  <tbody>\n",
       "    <tr>\n",
       "      <td>Africa</td>\n",
       "      <td>0.0920</td>\n",
       "      <td>177.2</td>\n",
       "    </tr>\n",
       "    <tr>\n",
       "      <td>Asia</td>\n",
       "      <td>0.3900</td>\n",
       "      <td>1355.7</td>\n",
       "    </tr>\n",
       "    <tr>\n",
       "      <td>Australia/Oceania</td>\n",
       "      <td>0.0095</td>\n",
       "      <td>22.5</td>\n",
       "    </tr>\n",
       "    <tr>\n",
       "      <td>Europe</td>\n",
       "      <td>0.0310</td>\n",
       "      <td>142.5</td>\n",
       "    </tr>\n",
       "    <tr>\n",
       "      <td>North America</td>\n",
       "      <td>0.0520</td>\n",
       "      <td>318.9</td>\n",
       "    </tr>\n",
       "    <tr>\n",
       "      <td>South America</td>\n",
       "      <td>0.5700</td>\n",
       "      <td>202.7</td>\n",
       "    </tr>\n",
       "  </tbody>\n",
       "</table>\n",
       "</div>"
      ],
      "text/plain": [
       "                      min     max\n",
       "Continent                        \n",
       "Africa             0.0920   177.2\n",
       "Asia               0.3900  1355.7\n",
       "Australia/Oceania  0.0095    22.5\n",
       "Europe             0.0310   142.5\n",
       "North America      0.0520   318.9\n",
       "South America      0.5700   202.7"
      ]
     },
     "execution_count": 120,
     "metadata": {},
     "output_type": "execute_result"
    }
   ],
   "source": [
    "country.groupby(['Continent']).Population.agg([min, max])"
   ]
  },
  {
   "cell_type": "markdown",
   "metadata": {},
   "source": [
    "## Deleting a Column from Your DataFrame\n",
    "To get rid of (a selection of) columns from your DataFrame, you can use the drop() method."
   ]
  },
  {
   "cell_type": "code",
   "execution_count": 105,
   "metadata": {},
   "outputs": [
    {
     "data": {
      "text/html": [
       "<div>\n",
       "<style scoped>\n",
       "    .dataframe tbody tr th:only-of-type {\n",
       "        vertical-align: middle;\n",
       "    }\n",
       "\n",
       "    .dataframe tbody tr th {\n",
       "        vertical-align: top;\n",
       "    }\n",
       "\n",
       "    .dataframe thead th {\n",
       "        text-align: right;\n",
       "    }\n",
       "</style>\n",
       "<table border=\"1\" class=\"dataframe\">\n",
       "  <thead>\n",
       "    <tr style=\"text-align: right;\">\n",
       "      <th></th>\n",
       "      <th>Country</th>\n",
       "      <th>Continent</th>\n",
       "      <th>Population</th>\n",
       "      <th>Area</th>\n",
       "      <th>Area in 1000s</th>\n",
       "    </tr>\n",
       "  </thead>\n",
       "  <tbody>\n",
       "    <tr>\n",
       "      <td>0</td>\n",
       "      <td>Albania</td>\n",
       "      <td>Europe</td>\n",
       "      <td>3.000</td>\n",
       "      <td>11100.0</td>\n",
       "      <td>0</td>\n",
       "    </tr>\n",
       "    <tr>\n",
       "      <td>1</td>\n",
       "      <td>Algeria</td>\n",
       "      <td>Africa</td>\n",
       "      <td>38.300</td>\n",
       "      <td>919595.0</td>\n",
       "      <td>0</td>\n",
       "    </tr>\n",
       "    <tr>\n",
       "      <td>2</td>\n",
       "      <td>Andorra</td>\n",
       "      <td>Europe</td>\n",
       "      <td>0.085</td>\n",
       "      <td>181.0</td>\n",
       "      <td>0</td>\n",
       "    </tr>\n",
       "    <tr>\n",
       "      <td>3</td>\n",
       "      <td>Angola</td>\n",
       "      <td>Africa</td>\n",
       "      <td>19.100</td>\n",
       "      <td>481354.0</td>\n",
       "      <td>0</td>\n",
       "    </tr>\n",
       "    <tr>\n",
       "      <td>4</td>\n",
       "      <td>Antigua and Barbuda</td>\n",
       "      <td>North America</td>\n",
       "      <td>0.091</td>\n",
       "      <td>108.0</td>\n",
       "      <td>0</td>\n",
       "    </tr>\n",
       "  </tbody>\n",
       "</table>\n",
       "</div>"
      ],
      "text/plain": [
       "               Country      Continent  Population      Area  Area in 1000s\n",
       "0              Albania         Europe       3.000   11100.0              0\n",
       "1              Algeria         Africa      38.300  919595.0              0\n",
       "2              Andorra         Europe       0.085     181.0              0\n",
       "3               Angola         Africa      19.100  481354.0              0\n",
       "4  Antigua and Barbuda  North America       0.091     108.0              0"
      ]
     },
     "execution_count": 105,
     "metadata": {},
     "output_type": "execute_result"
    }
   ],
   "source": [
    "# Delete new column in the DataFrame\n",
    "# inplace - if False, return a copy. Otherwise, do operation inplace and return None\n",
    "\n",
    "country.drop('Average Continent Area', inplace = True, axis = 1)\n",
    "\n",
    "country.head(5)"
   ]
  },
  {
   "cell_type": "markdown",
   "metadata": {},
   "source": [
    "You might think now: well, this is not so straightforward; There are some extra arguments that are passed to the drop() method!\n",
    "\n",
    "The axis argument is either 0 when it indicates rows and 1 when it is used to drop columns.\n",
    "You can set inplace to True to delete the column without having to reassign the DataFrame."
   ]
  },
  {
   "cell_type": "markdown",
   "metadata": {},
   "source": [
    "## Pandas Visualization with Matplotlib"
   ]
  },
  {
   "cell_type": "markdown",
   "metadata": {},
   "source": [
    "Another great thing about pandas is that it integrates with Matplotlib, so you get the ability to plot directly off DataFrames and Series. To get started we need to import Matplotlib:"
   ]
  },
  {
   "cell_type": "code",
   "execution_count": 136,
   "metadata": {
    "scrolled": false
   },
   "outputs": [],
   "source": [
    "# Set ploting parameters\n",
    "import matplotlib.pyplot as plt\n",
    "#plt.rcParams.update({'font.size': 14, 'figure.figsize': (10, 10)}) # set font and plot size to be larger"
   ]
  },
  {
   "cell_type": "code",
   "execution_count": 137,
   "metadata": {},
   "outputs": [
    {
     "data": {
      "image/png": "[encoded data removed]",
      "text/plain": [
       "<Figure size 720x720 with 1 Axes>"
      ]
     },
     "metadata": {
      "needs_background": "light"
     },
     "output_type": "display_data"
    }
   ],
   "source": [
    "country.plot(kind='scatter', x='Population', y='Area in 1000s', title='Area vs Population');"
   ]
  },
  {
   "cell_type": "code",
   "execution_count": 141,
   "metadata": {
    "scrolled": false
   },
   "outputs": [
    {
     "data": {
      "image/png": "[encoded data removed]",
      "text/plain": [
       "<Figure size 1080x720 with 1 Axes>"
      ]
     },
     "metadata": {
      "needs_background": "light"
     },
     "output_type": "display_data"
    }
   ],
   "source": [
    "plt.figure(figsize = (15,10))  # Set Figure size \n",
    "country['Area'].plot(kind='hist', title='Area', bins=100);"
   ]
  },
  {
   "cell_type": "code",
   "execution_count": 142,
   "metadata": {},
   "outputs": [
    {
     "data": {
      "image/png": "[encoded data removed]",
      "text/plain": [
       "<Figure size 720x720 with 1 Axes>"
      ]
     },
     "metadata": {
      "needs_background": "light"
     },
     "output_type": "display_data"
    }
   ],
   "source": [
    "country['Area'].plot.hist(title='Area', bins=100);"
   ]
  },
  {
   "cell_type": "code",
   "execution_count": null,
   "metadata": {},
   "outputs": [],
   "source": []
  }
 ],
 "metadata": {
  "kernelspec": {
   "display_name": "Python 3",
   "language": "python",
   "name": "python3"
  },
  "language_info": {
   "codemirror_mode": {
    "name": "ipython",
    "version": 3
   },
   "file_extension": ".py",
   "mimetype": "text/x-python",
   "name": "python",
   "nbconvert_exporter": "python",
   "pygments_lexer": "ipython3",
   "version": "3.7.4"
  }
 },
 "nbformat": 4,
 "nbformat_minor": 2
}

{
 "cells": [
  {
   "cell_type": "markdown",
   "metadata": {},
   "source": [
    "# Working with Visualization - Matplotlib"
   ]
  },
  {
   "cell_type": "markdown",
   "metadata": {},
   "source": [
    "<h2> Matplotlib </h2>\n",
    "<a id = \"Matplotlib\"> </a>\n",
    "\n",
    "<p>Matplotlib is a very powerful plotting library useful for those working with Python, Pandas, and NumPy. The most used module of Matplotib is Pyplot which provides a convenient interface to the matplotlib object-oriented plotting library. It is modeled closely after Matlab(TM). Therefore, the majority of plotting commands in pyplot have Matlab(TM) analogs with similar arguments. Important commands are explained with interactive examples.</p>\n",
    "\n",
    "<p> You can find more documentation and examples about Matplotlib on <a href=\"https://matplotlib.org/index.html\"> Matplotlib.org </a> </p>\n"
   ]
  },
  {
   "cell_type": "markdown",
   "metadata": {},
   "source": [
    "## General Concepts"
   ]
  },
  {
   "cell_type": "markdown",
   "metadata": {},
   "source": [
    "### Types of inputs to plotting functions\n",
    "All of plotting functions expect <b>numpy.array</b> or <b>list</b> as input. Classes that are 'array-like' such as <b>pandas</b> data objects and <b>numpy.matrix</b> may or may not work as intended. It is best to convert these to numpy.array objects prior to plotting.\n",
    "\n",
    "## Getting Started with Pyplot\n",
    "Pyplot is a module of Matplotlib which provides simple functions to add plot elements like lines, images, text, etc. to the current axes in the current figure.\n",
    "\n",
    "### Make a simple plot\n",
    "Here we import Matplotlib’s Pyplot module and Numpy library as most of the data that we will be working with will be in the form of arrays only."
   ]
  },
  {
   "cell_type": "code",
   "execution_count": null,
   "metadata": {},
   "outputs": [],
   "source": [
    "import numpy as np\n",
    "import matplotlib.pyplot as plt\n",
    "\n",
    "# Displays graphic output inline in Jupyter Noteook\n",
    "%matplotlib inline\n",
    "\n",
    "# %matplotlib is a magic command which performs the necessary behind-the-scenes setup for IPython\n",
    "# to work correctly hand-in-hand with matplotlib\n",
    "# It does not execute any Python import commands, that is, no names are added to the namespace."
   ]
  },
  {
   "cell_type": "code",
   "execution_count": null,
   "metadata": {},
   "outputs": [],
   "source": [
    "x = np.linspace(0, 2, 100)\n",
    "\n",
    "plt.plot(x, x, label='linear')  # Plot some data on the (implicit) axes.\n",
    "plt.plot(x, x**2, label='quadratic')  # Plot more data on the axes...\n",
    "plt.plot(x, x**3, label='cubic') # Plot more data on the axes...\n",
    "plt.xlabel('x label') # Add an x-label to the axes.\n",
    "plt.ylabel('y label') # Add an y-label to the axes.\n",
    "plt.title(\"Simple Plot\") # Add a title to the axes.\n",
    "plt.legend() # Add a legend.\n",
    "plt.show()  # Show the plot"
   ]
  },
  {
   "cell_type": "markdown",
   "metadata": {},
   "source": [
    "We pass two arrays as our input arguments to Pyplot’s <i>plot()</i> method and use <i>show()</i> method to invoke the required plot. Here note that the first array appears on the x-axis and second array appears on the y-axis of the plot. Now that our first plot is ready, let us add the title, and name x-axis and y-axis using methods <i>title()</i>, <i>xlabel()</i> and <i>ylabel()</i> respectively.\n",
    "\n",
    "We can also specify the size of the figure using method <i>figure()</i> and passing the values as a tuple of the length of rows and columns to the argument <i>figsize</i>"
   ]
  },
  {
   "cell_type": "code",
   "execution_count": null,
   "metadata": {},
   "outputs": [],
   "source": [
    "x = np.linspace(0, 2, 100)\n",
    "\n",
    "plt.figure(figsize = (15,10))  # Set Figure size \n",
    "plt.plot(x, x, label='linear')  # Plot some data on the (implicit) axes.\n",
    "plt.plot(x, x**2, label='quadratic')  # Plot more data on the axes...\n",
    "plt.plot(x, x**3, label='cubic') # Plot more data on the axes...\n",
    "plt.xlabel('x label') # Add an x-label to the axes.\n",
    "plt.ylabel('y label') # Add an y-label to the axes.\n",
    "plt.title(\"Simple Plot\") # Add a title to the axes.\n",
    "plt.legend() # Add a legend.\n",
    "plt.show()  # Show the plot"
   ]
  },
  {
   "cell_type": "code",
   "execution_count": null,
   "metadata": {},
   "outputs": [],
   "source": [
    "# Example to plot csv-format data \n",
    "def placeRecordsIntoList(fileName):\n",
    "    infile = open(\"UN.txt\", 'r')\n",
    "    listOfRecords = [line.rstrip() for line in infile]\n",
    "    infile.close()\n",
    "    for i in range(len(listOfRecords)):\n",
    "        listOfRecords[i] = listOfRecords[i].split(',')\n",
    "        listOfRecords[i][2] = eval(listOfRecords[i][2]) # population\n",
    "        listOfRecords[i][3] = eval(listOfRecords[i][3]) # area\n",
    "        #print(listOfRecords[i])\n",
    "    return listOfRecords\n",
    "\n",
    "def extractField(fileName, n):\n",
    "    ## Extract the nth field from each record of a CSV file\n",
    "    ## and place data into a list\n",
    "    infile = open(fileName, 'r')\n",
    "    r_list = [line.rstrip().split(',')[n-1] for line in infile]\n",
    "    \n",
    "    if r_list[0][-1].isdigit():\n",
    "        return [eval(x) for x  in r_list]\n",
    "    else:\n",
    "        return r_list\n",
    "    inline.close()\n",
    "\n",
    "## Do statistical analysis of country's area\n",
    "population = extractField(\"UN.txt\", 3)  # Get population\n",
    "area = extractField(\"UN.txt\", 4)  # Get area \n",
    "\n",
    "# Plot population vs area\n",
    "plt.figure(figsize = (15,10))  # Set Figure size \n",
    "plt.plot(area, population, 'go', label='population vs area')  # Plot some data on the (implicit) axes.\n",
    "plt.xlabel('Area') # Add an x-label to the axes.\n",
    "plt.ylabel('Population') # Add an y-label to the axes.\n",
    "plt.title(\"Population vs Area for UN countries\") # Add a title to the axes.\n",
    "plt.legend() # Add a legend.\n",
    "plt.show()  # Show the plot\n"
   ]
  },
  {
   "cell_type": "markdown",
   "metadata": {},
   "source": [
    "With every X and Y argument, you can also pass an optional third argument in the form of a string which indicates the colour and line type of the plot. The default format is <b>b-</b> which means a solid blue line. In the figure below we use <b>go</b> which means green circles. Likewise, we can make many such combinations to format our plot.\n",
    "\n",
    "<p> You can find more documentation and examples about color and line types on <a href=\"https://matplotlib.org/2.1.1/api/_as_gen/matplotlib.pyplot.plot.html\"> Color and Line Types</a> </p>"
   ]
  },
  {
   "cell_type": "code",
   "execution_count": null,
   "metadata": {},
   "outputs": [],
   "source": [
    "x = np.linspace(0, 2, 100)\n",
    "\n",
    "plt.figure(figsize = (15,10))  # Set Figure size \n",
    "plt.plot(x, x, 'v-', label='linear')  # Plot some data on the (implicit) axes.\n",
    "plt.plot(x, x**2, 'go', label='quadratic')  # Plot more data on the axes...\n",
    "plt.plot(x, x**3, '--', label='cubic') # Plot more data on the axes...\n",
    "plt.xlabel('x label') # Add an x-label to the axes.\n",
    "plt.ylabel('y label') # Add an y-label to the axes.\n",
    "plt.title(\"Simple Plot\") # Add a title to the axes.\n",
    "plt.legend() # Add a legend.\n",
    "plt.show()  # Show the plot"
   ]
  },
  {
   "cell_type": "markdown",
   "metadata": {},
   "source": [
    "## Multiple plots in one figure:\n",
    "We can use <i>subplot()</i> method to add more than one plots in one figure. In the image below, we used this method to separate two graphs which we plotted on the same axes in the previous example. The <i>subplot()</i> method takes three arguments: they are <i>nrows</i>, <i>ncols</i> and <i>index</i>. They indicate the number of rows, number of columns and the index number of the sub-plot. For instance, in our example, we want to create two sub-plots in one figure such that it comes in one row and in two columns and hence we pass arguments <i>(1,2,1)</i> and <i>(1,2,2)</i> in the subplot() method. Note that we have separately used <i>title()</i> method for both the subplots. We use <i>suptitle()</i> method to make a centralized title for the figure.\n",
    "\n",
    "<b>subplot(nrows, ncols, index)</b> - Three integers (nrows, ncols, index). The subplot will take the index position on a grid with nrows rows and ncols columns. index starts at 1 in the upper left corner and increases to the right. index can also be a two-tuple specifying the (first, last) indices (1-based, and including last) of the subplot, e.g., fig.add_subplot(3, 1, (1, 2)) makes a subplot that spans the upper 2/3 of the figure."
   ]
  },
  {
   "cell_type": "code",
   "execution_count": null,
   "metadata": {
    "scrolled": false
   },
   "outputs": [],
   "source": [
    "x = np.linspace(0, 2, 100)\n",
    "\n",
    "plt.figure(figsize = (10,5))  # Set Figure size \n",
    "\n",
    "plt.subplot(1,2,1)\n",
    "plt.plot(x, x, 'v-', label='linear')  # Plot some data on the (implicit) axes.\n",
    "plt.title(\"1st subplot\")\n",
    "plt.xlabel('x label') # Add an x-label to the axes.\n",
    "plt.ylabel('y label') # Add an y-label to the axes.\n",
    "plt.legend() # Add a legend.\n",
    "\n",
    "plt.subplot(1,2,2)\n",
    "plt.plot(x, x**2, 'go', label='quadratic')  # Plot more data on the axes...\n",
    "plt.plot(x, x**3, '--', label='cubic') # Plot more data on the axes...\n",
    "plt.title(\"2nd subplot\")\n",
    "plt.xlabel('x label') # Add an x-label to the axes.\n",
    "plt.ylabel('y label') # Add an y-label to the axes.\n",
    "plt.legend() # Add a legend.\n",
    "\n",
    "plt.suptitle(\"My Sub-Plot\") # Add a title to the axes.\n",
    "\n",
    "plt.show()  # Show the plot"
   ]
  },
  {
   "cell_type": "markdown",
   "metadata": {},
   "source": [
    "If we want our sub-plots in two rows and single column, we can pass arguments <i>(2,1,1)</i> and <i>(2,1,2)</i>"
   ]
  },
  {
   "cell_type": "code",
   "execution_count": null,
   "metadata": {
    "scrolled": false
   },
   "outputs": [],
   "source": [
    "x = np.linspace(0, 2, 100)\n",
    "\n",
    "plt.figure(figsize = (10,10))  # Set Figure size \n",
    "\n",
    "plt.subplot(2,1,1)\n",
    "plt.plot(x, x, 'v-', label='linear')  # Plot some data on the (implicit) axes.\n",
    "plt.title(\"1st subplot\")\n",
    "plt.xlabel('x label') # Add an x-label to the axes.\n",
    "plt.ylabel('y label') # Add an y-label to the axes.\n",
    "plt.legend() # Add a legend.\n",
    "\n",
    "plt.subplot(2,1,2)\n",
    "plt.plot(x, x**2, 'go', label='quadratic')  # Plot more data on the axes...\n",
    "plt.plot(x, x**3, '--', label='cubic') # Plot more data on the axes...\n",
    "plt.title(\"2nd subplot\")\n",
    "plt.xlabel('x label') # Add an x-label to the axes.\n",
    "plt.ylabel('y label') # Add an y-label to the axes.\n",
    "plt.legend() # Add a legend.\n",
    "\n",
    "plt.suptitle(\"My Sub-Plot\") # Add a title to the axes.\n",
    "\n",
    "plt.show()  # Show the plot"
   ]
  },
  {
   "cell_type": "code",
   "execution_count": null,
   "metadata": {
    "scrolled": false
   },
   "outputs": [],
   "source": [
    "x = np.linspace(0, 2, 100)\n",
    "\n",
    "plt.figure(figsize = (10,5))  # Set Figure size \n",
    "\n",
    "plt.subplot(2,2,1)\n",
    "plt.plot(x, x, 'v-', label='linear')  # Plot some data on the (implicit) axes.\n",
    "plt.title(\"1st subplot\")\n",
    "plt.ylabel('y label') # Add an y-label to the axes.\n",
    "plt.legend() # Add a legend.\n",
    "\n",
    "plt.subplot(2,2,2)\n",
    "plt.plot(x, x**2, 'go', label='quadratic')  # Plot more data on the axes...\n",
    "plt.title(\"2nd subplot\")\n",
    "plt.ylabel('y label') # Add an y-label to the axes.\n",
    "plt.legend() # Add a legend.\n",
    "\n",
    "plt.subplot(2,2,3)\n",
    "plt.plot(x, x**3, '--', label='cubic') # Plot more data on the axes...\n",
    "plt.xlabel('x label') # Add an x-label to the axes.\n",
    "plt.ylabel('y label') # Add an y-label to the axes.\n",
    "plt.legend() # Add a legend.\n",
    "\n",
    "plt.subplot(2,2,4)\n",
    "plt.plot(x, x**4, '--', label='4th') # Plot more data on the axes...\n",
    "plt.xlabel('x label') # Add an x-label to the axes.\n",
    "plt.ylabel('y label') # Add an y-label to the axes.\n",
    "plt.legend() # Add a legend.\n",
    "\n",
    "plt.suptitle(\"My Sub-Plot\") # Add a title to the axes.\n",
    "\n",
    "plt.show()  # Show the plot\n"
   ]
  },
  {
   "cell_type": "markdown",
   "metadata": {},
   "source": [
    "## Creating Different Types of Graphs with Pyplot"
   ]
  },
  {
   "cell_type": "markdown",
   "metadata": {},
   "source": [
    "### 1) Histogram\n",
    "Histograms are a very common type of plots when we are looking at data like height and weight, stock prices, waiting time for a customer, etc which are continuous in nature. Histogram’s data is plotted within a range against its frequency. Histograms are very commonly occurring graphs in probability and statistics and form the basis for various distributions like the normal -distribution, t-distribution, etc. In the following example, we generate a random continuous data of 1000 entries and plot it against its frequency with the data divided into 10 equal strata. We have used NumPy’s random.randn() method which generates data with the properties of a standard normal distribution i.e. mean = 0 and standard deviation = 1, and hence the histogram looks like a normal distribution curve."
   ]
  },
  {
   "cell_type": "code",
   "execution_count": null,
   "metadata": {
    "scrolled": false
   },
   "outputs": [],
   "source": [
    "# Plot Histogram\n",
    "x = np.random.randn(1000)\n",
    "\n",
    "plt.title('Histogram')\n",
    "plt.xlabel('Random Data') # Add an x-label to the axes.\n",
    "plt.ylabel('Frequency') # Add an y-label to the axes.\n",
    "plt.hist(x, 10)  # 10 is the number of bins\n",
    "plt.show()"
   ]
  },
  {
   "cell_type": "code",
   "execution_count": null,
   "metadata": {},
   "outputs": [],
   "source": [
    "# Population Histogram\n",
    "plt.title('Population Histogram')\n",
    "plt.xlabel('Population') # Add an x-label to the axes.\n",
    "plt.ylabel('Frequency') # Add an y-label to the axes.\n",
    "plt.hist(population, 100)  # 10 is the number of bins\n",
    "plt.show()"
   ]
  },
  {
   "cell_type": "code",
   "execution_count": null,
   "metadata": {},
   "outputs": [],
   "source": [
    "# Area Histogram\n",
    "plt.title('Area Histogram')\n",
    "plt.xlabel('Area') # Add an x-label to the axes.\n",
    "plt.ylabel('Frequency') # Add an y-label to the axes.\n",
    "plt.hist(area, 50)  # 10 is the number of bins\n",
    "plt.show()"
   ]
  },
  {
   "cell_type": "code",
   "execution_count": null,
   "metadata": {},
   "outputs": [],
   "source": [
    "# Plot Histogram\n",
    "x = np.random.randn(1000)\n",
    "\n",
    "plt.title('Histogram')\n",
    "plt.xlabel('Random Data') # Add an x-label to the axes.\n",
    "plt.ylabel('Frequency') # Add an y-label to the axes.\n",
    "plt.hist(x, 100)  # 10 is the number of bins\n",
    "plt.show()"
   ]
  },
  {
   "cell_type": "markdown",
   "metadata": {},
   "source": [
    "### 2) Scatter Plots \n",
    "Scatter plots are widely used graphs, especially they come in handy in visualizing a problem of regression. In the following example, we feed in arbitrarily created data of height and weight and plot them against each other. We used xlim() and ylim() methods to set the limits of X-axis and Y-axis respectively."
   ]
  },
  {
   "cell_type": "code",
   "execution_count": null,
   "metadata": {
    "scrolled": true
   },
   "outputs": [],
   "source": [
    "# Scatter Plot\n",
    "height = np.array([167,170,149,165,155,180,166,146,159,185,145,168,172,181,169])\n",
    "weight = np.array([86,74,66,78,68,79,90,73,76,8,66,84,67,84,77])\n",
    "\n",
    "plt.xlim(140,200)\n",
    "plt.ylim(60,100)\n",
    "plt.scatter(height, weight)  # Scatter Plot \n",
    "plt.title(\"Scatter Plot\")\n",
    "plt.xlabel('Height') # Add an x-label to the axes.\n",
    "plt.ylabel('Weight') # Add an y-label to the axes.\n",
    "plt.show()"
   ]
  },
  {
   "cell_type": "markdown",
   "metadata": {},
   "source": [
    "### 3) Pie Charts\n",
    "One more basic type of chart is a Pie chart which can be made using the method <i>pie()</i> We can also pass in arguments to customize our Pie chart to show shadow, explode a part of it, tilt it at an angle as follows:"
   ]
  },
  {
   "cell_type": "code",
   "execution_count": null,
   "metadata": {},
   "outputs": [],
   "source": [
    "# Pie Chart\n",
    "firms = ['Firm A','Firm B','Firm C','Firm D','Firm E']\n",
    "marketShare = [25,25,15,10,20]\n",
    "Explode = [0,0.1,0,0,0]   # only \"explode\" the 2nd slice (i.e. 'Firm B')\n",
    "\n",
    "plt.figure(figsize = (10,10))  # Set Figure size\n",
    "plt.pie(marketShare,      # data\n",
    "        explode=Explode,  # only \"explode\" the 2nd slice (i.e. 'Firm B')\n",
    "        labels=firms,     # labels\n",
    "        shadow=True,      # drop-shadow\n",
    "        startangle=45)    # startangle = 90 such that everything is rotated counter-clockwise by 90 degrees \n",
    "plt.title(\"Scatter Plot\")\n",
    "plt.axis('equal')  # Add an x-label to the axes.\n",
    "plt.legend(title='List of Firms') # Add an y-label to the axes.\n",
    "plt.show()"
   ]
  },
  {
   "cell_type": "markdown",
   "metadata": {},
   "source": [
    "### 4) Bar Graphs\n",
    "Bar graphs are one of the most common types of graphs and are used to show data associated with the categorical variables. Pyplot provides a method <i>bar()</i> to make bar graphs which take arguments: categorical variables, their values and color (if you want to specify any)."
   ]
  },
  {
   "cell_type": "code",
   "execution_count": null,
   "metadata": {},
   "outputs": [],
   "source": [
    "# Bar Graph\n",
    "x = ['Nuclear', 'Hydro', 'Gas', 'Oil', 'Coal', 'Biofuel']\n",
    "energy = [5, 6, 15, 22, 24, 8]\n",
    "\n",
    "plt.figure(figsize = (10,5))  # Set Figure size\n",
    "plt.bar(x, energy, color='green')\n",
    "plt.xlabel(\"Energy Source\")\n",
    "plt.ylabel(\"Energy Output (GJ)\")\n",
    "plt.title(\"Energy output from various fuel sources\")\n",
    "\n",
    "plt.show()"
   ]
  },
  {
   "cell_type": "code",
   "execution_count": null,
   "metadata": {},
   "outputs": [],
   "source": [
    "# Bar Graph for Country Area\n",
    "\n",
    "# Get list of countires\n",
    "country = extractField(\"UN.txt\", 1)  # Get country\n",
    "\n",
    "plt.figure(figsize = (20,5))  # Set Figure size\n",
    "plt.bar(country[0:10], area[0:10],  color='green')\n",
    "plt.xlabel(\"Countiry\")\n",
    "plt.ylabel(\"Area\")\n",
    "plt.title(\"Area by 10 Countries\")\n",
    "\n",
    "plt.show()"
   ]
  },
  {
   "cell_type": "code",
   "execution_count": null,
   "metadata": {},
   "outputs": [],
   "source": [
    "# Bar Graph - Error Bar\n",
    "x = ['Nuclear', 'Hydro', 'Gas', 'Oil', 'Coal', 'Biofuel']\n",
    "energy = [5, 6, 15, 22, 24, 8]\n",
    "variance = [1, 2, 7, 4, 2, 3]\n",
    "\n",
    "plt.figure(figsize = (10,5))  # Set Figure size\n",
    "plt.bar(x, energy, color='green',  yerr=variance)\n",
    "plt.xlabel(\"Energy Source\")\n",
    "plt.ylabel(\"Energy Output (GJ)\")\n",
    "plt.title(\"Energy output from various fuel sources\")\n",
    "\n",
    "plt.show()"
   ]
  },
  {
   "cell_type": "code",
   "execution_count": null,
   "metadata": {},
   "outputs": [],
   "source": [
    "# Horizontal Bar Graph - Error Bar\n",
    "x = ['Nuclear', 'Hydro', 'Gas', 'Oil', 'Coal', 'Biofuel']\n",
    "energy = [5, 6, 15, 22, 24, 8]\n",
    "variance = [1, 2, 7, 4, 2, 3]\n",
    "\n",
    "plt.figure(figsize = (10,5))  # Set Figure size\n",
    "plt.barh(x, energy, color='green',  xerr=variance)\n",
    "plt.xlabel(\"Energy Source\")\n",
    "plt.ylabel(\"Energy Output (GJ)\")\n",
    "plt.title(\"Energy output from various fuel sources\")\n",
    "\n",
    "plt.show()"
   ]
  },
  {
   "cell_type": "markdown",
   "metadata": {},
   "source": [
    "### Bar Chart with Multiple X’s\n",
    "To create horizontally stacked bar graphs we use the bar() method twice and pass the arguments where we mention the index and width of our bar graphs in order to horizontally stack them together. Also, notice the use of two other methods legend() which is used to show the legend of the graph and xticks() to label our x-axis based on the position of our bars."
   ]
  },
  {
   "cell_type": "code",
   "execution_count": null,
   "metadata": {
    "scrolled": true
   },
   "outputs": [],
   "source": [
    "# Bar Graph\n",
    "x = ['Nuclear', 'Hydro', 'Gas', 'Oil', 'Coal', 'Biofuel']\n",
    "energy2019 = [5, 6, 15, 22, 24, 8]\n",
    "energy2018 = [4, 5, 11, 24, 28, 6]\n",
    "\n",
    "index = np.arange(6)\n",
    "width = 0.35\n",
    "\n",
    "plt.figure(figsize = (10,5))  # Set Figure size\n",
    "plt.bar(index, energy2018, width, color='green', label='2018')\n",
    "plt.bar(index + width, energy2019, width, color='blue', label='2019',)\n",
    "\n",
    "plt.title(\"Energy output from various fuel sources\")\n",
    "plt.xlabel(\"Energy Source\")\n",
    "plt.ylabel(\"Energy Output (GJ)\")\n",
    "plt.xticks(index + width/2, x)\n",
    "plt.legend(loc='best')\n",
    "\n",
    "plt.show()"
   ]
  },
  {
   "cell_type": "markdown",
   "metadata": {},
   "source": [
    "### Stack Bar Charts\n",
    "Similarly, to vertically stack the bar graphs together, we can use an argument bottom and mention the bar graph which we want to stack below as its value."
   ]
  },
  {
   "cell_type": "code",
   "execution_count": null,
   "metadata": {},
   "outputs": [],
   "source": [
    "# Bar Graph\n",
    "x = ['Nuclear', 'Hydro', 'Gas', 'Oil', 'Coal', 'Biofuel']\n",
    "energy2019 = [5, 6, 15, 22, 24, 8]\n",
    "energy2018 = [4, 5, 11, 24, 28, 6]\n",
    "\n",
    "index = np.arange(6)\n",
    "width = 0.35\n",
    "\n",
    "plt.figure(figsize = (10,5))  # Set Figure size\n",
    "plt.bar(index, energy2018, width, color='green', label='2018')\n",
    "plt.bar(index, energy2019, width, color='blue', label='2019', bottom=energy2018)\n",
    "\n",
    "plt.title(\"Energy output from various fuel sources\")\n",
    "plt.xlabel(\"Energy Source\")\n",
    "plt.ylabel(\"Energy Output (GJ)\")\n",
    "plt.xticks(index, x)\n",
    "plt.legend(loc='best')\n",
    "\n",
    "plt.show()"
   ]
  }
 ],
 "metadata": {
  "kernelspec": {
   "display_name": "Python 3",
   "language": "python",
   "name": "python3"
  },
  "language_info": {
   "codemirror_mode": {
    "name": "ipython",
    "version": 3
   },
   "file_extension": ".py",
   "mimetype": "text/x-python",
   "name": "python",
   "nbconvert_exporter": "python",
   "pygments_lexer": "ipython3",
   "version": "3.7.4"
  }
 },
 "nbformat": 4,
 "nbformat_minor": 2
}

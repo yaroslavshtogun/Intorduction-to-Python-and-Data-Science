{
 "cells": [
  {
   "cell_type": "markdown",
   "metadata": {},
   "source": [
    "# Working with Functions"
   ]
  },
  {
   "cell_type": "markdown",
   "metadata": {},
   "source": [
    "## Table of Content"
   ]
  },
  {
   "cell_type": "markdown",
   "metadata": {},
   "source": [
    "<div style=\"margin-top: 20px\">\n",
    "    <ul>\n",
    "        <li><a href=\"#function\"> Function Definition </a>\n",
    "        <li><a href=\"#buildinF\"> Build-in Function </a></li>\n",
    "        <li><a href=\"#userF\"> User-Defined Function </a></li>\n",
    "        <li><a href=\"#listF\"> Boolean- and List-Valued Function </a></li>\n",
    "        <li><a href=\"#nvalueF\"> Function That Do Not Return Values </a></li>\n",
    "        <li><a href=\"#nparametersF\"> Function Without Parameters </a></li>\n",
    "        <li><a href=\"#scopeV\"> Scope of Variables </a></li> \n",
    "        <li><a href=\"#nconstant\"> Named Constants </a></li>   \n",
    "        <li><a href=\"#lambda\"> Lambda Functions </a></li>\n",
    "        <li><a href=\"#modules\"> Library Modules </a></li>        \n",
    "        <li><a href=\"#lab\">Lab Assignment</a></li>\n",
    "            </ul>\n",
    "       \n",
    "</div>"
   ]
  },
  {
   "cell_type": "markdown",
   "metadata": {},
   "source": [
    "<h3> Function </h3>\n",
    "<a id = \"function\"> </a>\n",
    "\n",
    "<p>In Python, a function is a block of a code with related statements that performs a specific task. Function also helps to break complex problem into smaller problems that are easier to manage. Like a program, functions receive input, process the input and generate output or no output. As program grows larger and larger, functions make it more organized, readable and manageable. It allows to reuse the code and avoid code repetition.</p>\n",
    "\n",
    "<p> There are two types of functions from their output prospective - those that return values and those that are executed without any return values. </p>\n",
    "<p> There are also two types of functions from their design - <b>build-in</b> and <b>user-defined</b> functions. </p>\n"
   ]
  },
  {
   "cell_type": "markdown",
   "metadata": {},
   "source": [
    "<h3> Build-in Functions </h3>\n",
    "<a id = \"buildinF\"> </a>\n",
    "\n",
    "<p> We have seen already build-in function. Their output is a single value and items inside parentheses call arguments. Here are several examples of build-in functions:</p>"
   ]
  },
  {
   "cell_type": "code",
   "execution_count": null,
   "metadata": {},
   "outputs": [],
   "source": [
    "# literal as an argument\n",
    "print(int(2.8))\n",
    "print(chr(65))\n",
    "print(round(3.14, 1))"
   ]
  },
  {
   "cell_type": "code",
   "execution_count": null,
   "metadata": {},
   "outputs": [],
   "source": [
    "# variable as an argument\n",
    "num1 = 2.8\n",
    "num2 = int(num1)\n",
    "print(num2)"
   ]
  },
  {
   "cell_type": "code",
   "execution_count": null,
   "metadata": {},
   "outputs": [],
   "source": [
    "# expression as an argument\n",
    "num1 = 1.8\n",
    "num2 = int(2*num1)\n",
    "print(num2)"
   ]
  },
  {
   "cell_type": "markdown",
   "metadata": {},
   "source": [
    "<h3> User-Defined Functions </h3>\n",
    "<a id = \"userF\"> </a>\n",
    "\n",
    "<p> We can define functions on our own (called user-defined function) which can return the value. The function name should describe the role performed. The general form of user-define function is </p>\n",
    "\n",
    "<p><b> def functionName(<i>par1, par2, ...</i>):</b>\n",
    "<br><b>&nbsp;&nbsp;&nbsp;&nbsp;&nbsp;   <i>indented block of statements</i>  </b>\n",
    "<br><b>&nbsp;&nbsp;&nbsp;&nbsp;&nbsp; return <i> expression </i> </b></p>"
   ]
  },
  {
   "cell_type": "code",
   "execution_count": null,
   "metadata": {},
   "outputs": [],
   "source": [
    "# User-Defined Function\n",
    "def sum_2num(num1, num2):\n",
    "    num3 = num1 + num2\n",
    "    return num3\n",
    "\n",
    "print(sum_2num(2, 3))"
   ]
  },
  {
   "cell_type": "code",
   "execution_count": null,
   "metadata": {},
   "outputs": [],
   "source": [
    "# User-Defined Function with one parameter\n",
    "def fahrenheitToCelsius(t):\n",
    "    return (5/9)*(t - 32)\n",
    "\n",
    "print(\"Celsius temperature is: \", round(fahrenheitToCelsius(90), 1))"
   ]
  },
  {
   "cell_type": "code",
   "execution_count": null,
   "metadata": {},
   "outputs": [],
   "source": [
    "# User-Defined Function with several parameters\n",
    "def futureValue(p, r, m, t):\n",
    "    ## Find the future value of a savings account deposit\n",
    "    # p - principal, the amount deposited\n",
    "    # r - annual rate of interest in decimal form\n",
    "    # m - number of times interest is compounded per year\n",
    "    # t - number of years\n",
    "    i = r / m    # interest rate per period\n",
    "    n = m * t  # total numbers of times interest is compounded\n",
    "    amount = p * ((1 + i) ** n)\n",
    "    return amount\n",
    "\n",
    "print(\"Future value of $10,000 is ${:,.2f}\".format(futureValue(10000, 0.1, 1, 25)))"
   ]
  },
  {
   "cell_type": "markdown",
   "metadata": {},
   "source": [
    "<p>Note: When passing argument by position, like we did in above function, the number of arguments should be the same as the number of parameters. Also, each argument data type should match the parameter data type. </p>"
   ]
  },
  {
   "cell_type": "markdown",
   "metadata": {},
   "source": [
    "<h3> Boolean- and List-Valued Function </h3>\n",
    "<a id = \"listF\"> </a>\n",
    "\n",
    "<p> So far, we work with function that returns numbers. However, function can return any data types. In the following example we show how functions returns Boolean and list data types: </p>"
   ]
  },
  {
   "cell_type": "code",
   "execution_count": null,
   "metadata": {
    "scrolled": true
   },
   "outputs": [],
   "source": [
    "# Check if all vowel are in the word\n",
    "# Return Boolean True or False if all vowels are or are not in the word\n",
    "def isVowelWord(word):\n",
    "    word = word.upper()\n",
    "    vowels = ('A', 'E', 'I', 'O', 'U')\n",
    "    for vowel in vowels:\n",
    "        if vowel not in word:\n",
    "            return False\n",
    "    return True\n",
    "\n",
    "word = input(\"Enter word: \")\n",
    "isVowelWord(word)    "
   ]
  },
  {
   "cell_type": "code",
   "execution_count": null,
   "metadata": {},
   "outputs": [],
   "source": [
    "# Return list of vowels in the word\n",
    "def occuringVowels(word):\n",
    "    word = word.upper()\n",
    "    vowels = ('A', 'E', 'I', 'O', 'U')\n",
    "    includeVowels = []\n",
    "    for vowel in vowels:\n",
    "        if (vowel in word) and (vowel not in includeVowels):\n",
    "            includeVowels.append(vowel)\n",
    "    return includeVowels\n",
    "\n",
    "word = input(\"Enter word: \")\n",
    "occuringVowels(word)    "
   ]
  },
  {
   "cell_type": "markdown",
   "metadata": {},
   "source": [
    "<h3> Function That Do Not Return Values </h3>\n",
    "<a id = \"nvalueF\"> </a>\n",
    "\n",
    "<p> Functions that do not return values do not have the <b>return</b> statement, but they may or may not have parameters. "
   ]
  },
  {
   "cell_type": "code",
   "execution_count": null,
   "metadata": {
    "scrolled": true
   },
   "outputs": [],
   "source": [
    "# Greeting Function\n",
    "def greeting(yourName):\n",
    "    print(\"Good morning Mr.\", yourName)\n",
    "\n",
    "name = input(\"Enter your name: \")\n",
    "greeting(name)"
   ]
  },
  {
   "cell_type": "markdown",
   "metadata": {},
   "source": [
    "<h3> Function Without Parameters </h3>\n",
    "<a id = \"nparametersF\"> </a>\n",
    "\n",
    "<p> Every program has the <b>main()</b> function that control entire program. In this example, the <b>main()</b> function does not have any parameters and does not return any values. </p>"
   ]
  },
  {
   "cell_type": "code",
   "execution_count": null,
   "metadata": {},
   "outputs": [],
   "source": [
    "# Calculate State Population Density\n",
    "def main():\n",
    "    ## Calculate the population density of Hawaii\n",
    "    describeTask()\n",
    "    calculateDensity(\"Hawaii\", 1375000, 6423)\n",
    "\n",
    "def describeTask():\n",
    "    print(\"This program display the population\")\n",
    "    print(\"density of the lst state to become \")\n",
    "    print(\"part of the USA. \\n\")\n",
    "def calculateDensity(state, pop, landArea):\n",
    "    density = pop / landArea\n",
    "    print(\"The density of\", state, \"is\")\n",
    "    print(\"{0:,.2f} people per squere mile.\".format(density))\n",
    "\n",
    "main()"
   ]
  },
  {
   "cell_type": "markdown",
   "metadata": {},
   "source": [
    "<h3> Function Calling Other Functions </h3>\n",
    "<a id = \"mFunction\"> </a>\n",
    "\n",
    "<p> Functions can call another functons</p>  "
   ]
  },
  {
   "cell_type": "code",
   "execution_count": null,
   "metadata": {},
   "outputs": [],
   "source": [
    "# Example of function calling other functions\n",
    "def main():  \n",
    "    def secondPart():\n",
    "        print(str(2) + \": from function secondPart\") \n",
    "\n",
    "    def firstPart():\n",
    "        print(str(1) + \": from function firstPart\") \n",
    "        secondPart()\n",
    "        print(str(3) + \": from function firstPart\") \n",
    "\n",
    "    firstPart()\n",
    "    print(str(4) + \": from function main\") \n",
    "   \n",
    "main()"
   ]
  },
  {
   "cell_type": "markdown",
   "metadata": {},
   "source": [
    "<h3> Function with Multiple returns </h3>\n",
    "<a id = \"mReturns\"> </a>\n",
    "\n",
    "<p> Functions can return multiple varaibles</p>  "
   ]
  },
  {
   "cell_type": "code",
   "execution_count": null,
   "metadata": {},
   "outputs": [],
   "source": [
    "# Example of function with multiple returns\n",
    "def main():  \n",
    "    def mReturns(x, y):\n",
    "        sum1 = x + y\n",
    "        prod1 = x * y\n",
    "        return sum1, prod1\n",
    "\n",
    "    a, b = mReturns(5, 10)\n",
    "    print(a)\n",
    "    print(b)\n",
    "   \n",
    "main()"
   ]
  },
  {
   "cell_type": "markdown",
   "metadata": {},
   "source": [
    "<h3> Scope of Variables </h3>\n",
    "<a id = \"scopeV\"> </a>\n",
    "\n",
    "<p> The variable scope defines the area of the program where that variable can be access. If the variable is defined inside a function such variable can be access by statements inside the function and it is deleted when function is executed. If the function is executed again the variable will be created and deleted again. In this case, it says that variable has a <b>local scope</b>. The same is applied to the function parameters.</p>\n",
    "<p>Therefore, if two variables have the same name but created in two different functions then these variables are not related to each other and are treated independently. The same goes for parameters.</p>"
   ]
  },
  {
   "cell_type": "code",
   "execution_count": null,
   "metadata": {},
   "outputs": [],
   "source": [
    "# Scope of Variables\n",
    "def main():\n",
    "    # Demonstrate the scope of variables\n",
    "    x = 2\n",
    "    print(str(x) + \": function main\")\n",
    "    \n",
    "    trivial()\n",
    "    print(str(x) + \": function main\")\n",
    "    \n",
    "def trivial():\n",
    "    x = 3\n",
    "    print(str(x) + \": function trivial\")\n",
    "    \n",
    "main()"
   ]
  },
  {
   "cell_type": "code",
   "execution_count": null,
   "metadata": {
    "scrolled": false
   },
   "outputs": [],
   "source": [
    "# Scope of Local Variables\n",
    "def main():\n",
    "    x = 10\n",
    "\n",
    "    trivial()\n",
    "    \n",
    "def trivial():\n",
    "    print(str(x) + \": function trivial\")\n",
    "    \n",
    "main()"
   ]
  },
  {
   "cell_type": "markdown",
   "metadata": {},
   "source": [
    "<p> Python provide ability for a variable to access from anywhere by creating the assignment statement on the top of the program. The global variable cannot be changes unless the function is using a <b>global</b> statement. In the large program it is recommended to avoid using global variables unless it is necessary because they make large program difficult to follow and can cause errors. </p>"
   ]
  },
  {
   "cell_type": "code",
   "execution_count": null,
   "metadata": {},
   "outputs": [],
   "source": [
    "# Global Variable\n",
    "x = 0    # Declare a global variable\n",
    "def main():\n",
    "    # Demonstrate the scope of global variables\n",
    "    print(str(x) + \": function main\")\n",
    "    \n",
    "    trivial()\n",
    "    print(str(x) + \": function main\")\n",
    "    \n",
    "def trivial():\n",
    "    global x\n",
    "    x += 7\n",
    "    print(str(x) + \": function trivial\")\n",
    "    \n",
    "main()"
   ]
  },
  {
   "cell_type": "markdown",
   "metadata": {},
   "source": [
    "<h3> Named Constants</h3>\n",
    "<a id = \"nconstant\"> </a>\n",
    "\n",
    "<p> The global variables are recommended to use as named constants where the variable value need to be reused multiple times across the program. The named constant variable name commonly has all capital letters: </p>"
   ]
  },
  {
   "cell_type": "code",
   "execution_count": null,
   "metadata": {},
   "outputs": [],
   "source": [
    "INTEREST_RATE = 0.04\n",
    "MINIMUM_VOTING_AGE = 18\n",
    "BOOK_TITLE = \"Programming with Python\""
   ]
  },
  {
   "cell_type": "markdown",
   "metadata": {},
   "source": [
    "<h3> List Comprehension </h3>\n",
    "<a id=\"LComprehension\"></a>\n",
    "\n",
    "<p>When working with a list and we want to apply a specific function to each item in the list, an ordinary <b>for</b> loop can be used. However, there is a better way to accomplish the same task by using <b>list comprehension</b>. If we have <i>list1</i> then the following statment will create new list <i>list2</i> and places <i>f(item)</i> into the list for each <i>item</i> of the <i>list1</i>, where <i>f</i> is either  a Python build-in or user-defined function.\n",
    "<br>\n",
    "<br> <b> list2 = [f(x) for x in list1] </b>\n",
    "</p>\n"
   ]
  },
  {
   "cell_type": "code",
   "execution_count": null,
   "metadata": {},
   "outputs": [],
   "source": [
    "# Create new list by modifying existing list through build-in function\n",
    "list1 = ['2', '5', '6', '8', '9']\n",
    "list2 = [int(x) for x in list1]\n",
    "list2"
   ]
  },
  {
   "cell_type": "code",
   "execution_count": null,
   "metadata": {},
   "outputs": [],
   "source": [
    "# Create new list by modifying existing list through user-defiend function\n",
    "def g(x):\n",
    "    return (int(x))**2\n",
    "list1 = ['2', '5', '6', '8', '9']\n",
    "list2 = [g(x) for x in list1]\n",
    "list2"
   ]
  },
  {
   "cell_type": "markdown",
   "metadata": {},
   "source": [
    "<p> The <b>for</b> clause in a list comprehension can optionally be folloed by an <b>if</b> clause. </p>"
   ]
  },
  {
   "cell_type": "code",
   "execution_count": null,
   "metadata": {},
   "outputs": [],
   "source": [
    "# Create new list by modifying existing list through user-defiend function and if clasuse \n",
    "def g(x):\n",
    "    return (int(x))**2\n",
    "list1 = ['2', '5', '6', '8', '9']\n",
    "list2 = [g(x) for x in list1 if int(x) % 2 == 1]  # filter for only odd numbers \n",
    "list2"
   ]
  },
  {
   "cell_type": "markdown",
   "metadata": {},
   "source": [
    "<p> The is nothing special about variable <b>x</b>, we can use any other name as variable insted \n",
    "<br>[g(num) for num in list1 if int(num) % 2 == 1]. \n",
    "<br>List comprehension can be applied to objects ither than list, such as string, tuples, and arithmetic progressions generated by <b>range</b> functions.\n",
    "</p"
   ]
  },
  {
   "cell_type": "code",
   "execution_count": null,
   "metadata": {},
   "outputs": [],
   "source": [
    "# Application of list comprehenssion to string, tuples, and ranges\n",
    "print([ord(x) for x in \"abc\"])\n",
    "print([x ** 0.5 for x in (4, -1, 9) if x > 0])\n",
    "print([x ** 2 for x in range(3)])"
   ]
  },
  {
   "cell_type": "markdown",
   "metadata": {},
   "source": [
    "<a id=\"default\"></a>\n",
    "<h4> Default Values </h4>\n",
    "<p> We can provide default value for a function parameter using the assignment (=) sign when defining a function.</p>"
   ]
  },
  {
   "cell_type": "code",
   "execution_count": null,
   "metadata": {
    "scrolled": true
   },
   "outputs": [],
   "source": [
    "#Example of default values\n",
    "\n",
    "def addition(x, y = 4):\n",
    "    return x + y\n",
    "\n",
    "print(addition(1,5))\n",
    "# assign 1 to x and 5 to y.\n",
    "print(addition(4))\n",
    "#assign 4 to x and use the default value of y (4). "
   ]
  },
  {
   "cell_type": "markdown",
   "metadata": {},
   "source": [
    "<p> Note: when defining a function and assigning default variables, you first need to use the non default variables, then you use the default variables. Therefore, </p>\n",
    "\n",
    "```python\n",
    "def addition(x = 3, y ):\n",
    "\treturn x + y\n",
    "```\n",
    "Will show an error, non-default argument follows default argument."
   ]
  },
  {
   "cell_type": "markdown",
   "metadata": {},
   "source": [
    "<a id=\"name\"></a>\n",
    "<h4> Passing by value name </h4>\n",
    "<p> When passing arguments to a function, Python assigns the arguments to the parameters according to their location.</p>"
   ]
  },
  {
   "cell_type": "code",
   "execution_count": null,
   "metadata": {},
   "outputs": [],
   "source": [
    "def addition(x , y):\n",
    "    return x + y\n",
    "\n",
    "print(addition(1,5))  \n",
    "# assign 1 to x and 5 to y because of their locations.\n",
    "\n",
    "print(addition(y = 15, x = 14))\n",
    "#assign 15 to y and 14 to x because we explicitly assign the arguments to the parameters during the function call."
   ]
  },
  {
   "cell_type": "markdown",
   "metadata": {},
   "source": [
    "<h3> List Custom Sorting </h3>\n",
    "<a id=\"cSoritng\"></a>\n",
    "\n",
    "<p> </p>"
   ]
  },
  {
   "cell_type": "code",
   "execution_count": null,
   "metadata": {},
   "outputs": [],
   "source": [
    "def main():\n",
    "    ## Custom sort list of words \n",
    "    list1 =  [\"democratic\", \"republican\", \"equal\", \"python\", \"break\", \"two\", \"ruby\"]\n",
    "    list1.sort(key = len)   # Sort by length in ascending order\n",
    "    print(list1, \"\\n\")\n",
    "    \n",
    "    list1.sort(key = len, reverse = True)   # Sort by length in descending order\n",
    "    print(list1, \"\\n\")\n",
    "    \n",
    "    # return last character \n",
    "    def lastCharacter(s):\n",
    "        return s[-1]\n",
    "\n",
    "    list1.sort(key = lastCharacter, reverse = True)   # Sort by last character in descending order\n",
    "    print(list1, \"\\n\")\n",
    "\n",
    "    list2 = [ x[-2:].upper() for x in list1 ]\n",
    "    list2.sort(key = lastCharacter)\n",
    "    print(list2, \"\\n\")\n",
    "    \n",
    "main()"
   ]
  },
  {
   "cell_type": "markdown",
   "metadata": {},
   "source": [
    "<h3> Lambda functions/expression </h3>\n",
    "<a id=\"lambda\"></a>\n",
    "\n",
    "<p>Lambda functions are used as one-line function which are readable to human and requires less coding. A lambda function can take any number of arguments, but can only have one expression. </p>\n",
    "\n",
    "<p> <b>lambda <i>par1, par2, par3,... : expression </i> </b> </p>\n",
    "\n",
    "<p> The structure of lambda functions is: </p>\n",
    "<ol>\n",
    "<li> lambda keyword </li>\n",
    "<li> parameters </li>\n",
    "<li> expression </li>\n",
    "\n",
    "<p>\n",
    "You can write a simple lambda function that adds 1 to an argument, as follows:\n",
    "</p>"
   ]
  },
  {
   "cell_type": "code",
   "execution_count": null,
   "metadata": {},
   "outputs": [],
   "source": [
    "def addOne(x):\n",
    "    return x + 1\n",
    "\n",
    "# Alternative through lambda function\n",
    "lambda x: x + 1"
   ]
  },
  {
   "cell_type": "markdown",
   "metadata": {},
   "source": [
    "<p>\n",
    "You can apply the function above to an argument by surrounding the function and its argument with parentheses:\n",
    "</p>"
   ]
  },
  {
   "cell_type": "code",
   "execution_count": null,
   "metadata": {},
   "outputs": [],
   "source": [
    "(lambda x: x + 1)(2)"
   ]
  },
  {
   "cell_type": "markdown",
   "metadata": {},
   "source": [
    "(lambda x: x + 1)(2) = lambda 2: 2 + 1\n",
    "                     = 2 + 1\n",
    "                     = 3"
   ]
  },
  {
   "cell_type": "markdown",
   "metadata": {},
   "source": [
    "Because a lambda function is an expression, it can be named. Therefore you could write the previous code as follows:"
   ]
  },
  {
   "cell_type": "code",
   "execution_count": null,
   "metadata": {},
   "outputs": [],
   "source": [
    "add_one = lambda x: x + 1\n",
    "print(add_one(2))\n",
    "\n",
    "# The above lambda function is equivalent to writing this:\n",
    "# def add_one(x):\n",
    "#    return x + 1"
   ]
  },
  {
   "cell_type": "code",
   "execution_count": null,
   "metadata": {},
   "outputs": [],
   "source": [
    "#Example of lambda function\n",
    "# In previous example we use lastCharacter function\n",
    "\n",
    "list1 =  [\"democratic\", \"republican\", \"equal\", \"python\", \"break\", \"two\", \"ruby\"]\n",
    "def lastCharacter(s):\n",
    "    return s[-1]\n",
    "\n",
    "print(list1)\n",
    "# sorting by last character\n",
    "list1.sort(key = lastCharacter)\n",
    "print(list1, \"\\n\")\n",
    "\n",
    "# Using lambda function we can rewrite list sorting as: \n",
    "list1.sort(key = lambda x: x[-1])\n",
    "print(list1, \"\\n\")"
   ]
  },
  {
   "cell_type": "code",
   "execution_count": null,
   "metadata": {},
   "outputs": [],
   "source": [
    "# Addition Function\n",
    "def addition(x, y):\n",
    "    return x + y\n",
    "\n",
    "print('Calling the addition function', addition(3, 4))\n",
    "\n",
    "#This can be written as\n",
    "addition_lambda = (lambda x, y: x + y)\n",
    "print('Calling the addition_lambda function', addition_lambda(3, 4))"
   ]
  },
  {
   "cell_type": "code",
   "execution_count": null,
   "metadata": {},
   "outputs": [],
   "source": [
    "(lambda x, y: x + y)(2, 3)\n",
    "# The lambda function above is defined and then immediately called with two arguments (2 and 3).\n",
    "# It returns the value 5, which is the sum of the arguments"
   ]
  },
  {
   "cell_type": "code",
   "execution_count": null,
   "metadata": {},
   "outputs": [],
   "source": [
    "#Example of lambda function\n",
    "(lambda x, y: x * y )(2, 3) "
   ]
  },
  {
   "cell_type": "markdown",
   "metadata": {},
   "source": [
    "<p> In the previous example, we defined the lambda function that takes two parameters (x and y) and multiply them. In the same line we called the lambda function and passed the arguments (2 and 3) </p>"
   ]
  },
  {
   "cell_type": "markdown",
   "metadata": {},
   "source": [
    "<h3> Library Modules</h3>\n",
    "<a id = \"modules\"> </a>\n",
    "\n",
    "<p> The library module is a file with extension <b>.py</b> that contains a collection of functions and variables which can be <b> imported </b> by any program. The library module file can be created by many ways like using text editor or other IDLE like any other Python program. To use library module in your program you need to import statement following up with name of library module at the beginning of the program:</p> \n",
    "<p><b> import  <i>libraryModuleName</i> </b> </p>"
   ]
  },
  {
   "cell_type": "markdown",
   "metadata": {},
   "source": [
    "<p> To call any function from <b><i>libraryModuleName</i></b> in our program we would prepend function name with the module name - <b><i>libraryModuleName.functionName</i></b>. For instance, let create <b>testModule.py</b> file that has definition for <b>fahrenheitToCelsius(t)</b> function that we defined above. </p> "
   ]
  },
  {
   "cell_type": "code",
   "execution_count": null,
   "metadata": {},
   "outputs": [],
   "source": [
    "# Testing Labrary Module\n",
    "import testModule\n",
    "\n",
    "t = testModule.fahrenheitToCelsius(90)\n",
    "\n",
    "print(t) "
   ]
  },
  {
   "cell_type": "markdown",
   "metadata": {},
   "source": [
    "<p> Now our <b>test_module.py</b> file can be used by other programs. </p>\n",
    "\n",
    "<p> Alternative way to call function from library without prepending module name would be to use</p> \n",
    "\n",
    "<p><br> <b> from <i>libraryModuleName</i>  import * </b> </p>\n",
    "\n",
    "\n",
    "<p> Python comes with a collection of library modules that called <b>standard library</b>. Here is the list of some <b>standard libraries</b>. In addition, Python's user community develop many other useful libraries that can be used to solve business problems.</p>"
   ]
  },
  {
   "cell_type": "code",
   "execution_count": null,
   "metadata": {},
   "outputs": [],
   "source": [
    "# Standard Libraries\n",
    "import os      # Miscellaneous operating system interfaces \n",
    "import pickle  # Store object (such as dictionary, list, and sets) in files and retrive them from files\n",
    "import random  # Randomly select numbers and subsets\n",
    "import string  # Common string operations\n",
    "import re      # Regular expression operations\n",
    "\n",
    "# User defiend libraries:\n",
    "import matplotlib as plt # Data visualization\n",
    "import seaborn as sns    # Statistical data visualization\n",
    "import numpy as np       # Working with arrays\n",
    "import pandas as pd      # Working with datasets\n",
    "import nltk              # Text machine learning \n",
    "import sklearn           # Machine learning regressions and cladsifications  \n"
   ]
  },
  {
   "cell_type": "markdown",
   "metadata": {},
   "source": [
    "<h3> Lab Assignment</h3>\n",
    "<a id =\"lab\"> </a>"
   ]
  },
  {
   "cell_type": "markdown",
   "metadata": {},
   "source": [
    "<p> Q1)Give the output of the program\n",
    "<br> def main():\n",
    "<br> &nbsp;&nbsp;&nbsp;&nbsp;&nbsp;   num = 27\n",
    "<br> &nbsp;&nbsp;&nbsp;&nbsp;&nbsp;   if isEven(num):\n",
    "<br> &nbsp;&nbsp;&nbsp;&nbsp;&nbsp;&nbsp;&nbsp;&nbsp;&nbsp;&nbsp;       print(num, \"is an even number\")\n",
    "<br> &nbsp;&nbsp;&nbsp;&nbsp;&nbsp;   else:\n",
    "<br> &nbsp;&nbsp;&nbsp;&nbsp;&nbsp;&nbsp;&nbsp;&nbsp;&nbsp;&nbsp;       print(num, \"is an odd number\")\n",
    "<br>    \n",
    "<br> def isEven(n):\n",
    "<br> &nbsp;&nbsp;&nbsp;&nbsp;&nbsp; if n//2 == 0:\n",
    "<br> &nbsp;&nbsp;&nbsp;&nbsp;&nbsp;&nbsp;&nbsp;&nbsp;&nbsp;&nbsp; return True     \n",
    "<br> &nbsp;&nbsp;&nbsp;&nbsp;&nbsp;   else:\n",
    "<br> &nbsp;&nbsp;&nbsp;&nbsp;&nbsp;&nbsp;&nbsp;&nbsp;&nbsp;&nbsp; return False     \n",
    "<br>\n",
    "<br> main()\n",
    "</p>"
   ]
  },
  {
   "cell_type": "code",
   "execution_count": null,
   "metadata": {},
   "outputs": [],
   "source": []
  },
  {
   "cell_type": "markdown",
   "metadata": {},
   "source": [
    "<p> Q2) Give the output of the program\n",
    "<br> def main():\n",
    "<br> &nbsp;&nbsp;&nbsp;&nbsp;&nbsp;   state = 50\n",
    "<br> &nbsp;&nbsp;&nbsp;&nbsp;&nbsp;   senators = 2\n",
    "<br> &nbsp;&nbsp;&nbsp;&nbsp;&nbsp;   senate(state * senators)\n",
    "<br>    \n",
    "<br> def senate(n):\n",
    "<br> &nbsp;&nbsp;&nbsp;&nbsp;&nbsp; print(\"There are \", n, \"U.S. senators\")\n",
    "<br>\n",
    "<br> main()\n",
    "</p>"
   ]
  },
  {
   "cell_type": "code",
   "execution_count": null,
   "metadata": {},
   "outputs": [],
   "source": []
  },
  {
   "cell_type": "markdown",
   "metadata": {},
   "source": [
    "<p> Q3) Give the output of the program\n",
    "<br> x = 7\n",
    "<br> def main():\n",
    "<br> &nbsp;&nbsp;&nbsp;&nbsp;&nbsp;   x = 5\n",
    "<br> &nbsp;&nbsp;&nbsp;&nbsp;&nbsp;   f()\n",
    "<br> &nbsp;&nbsp;&nbsp;&nbsp;&nbsp;   print(x)\n",
    "<br>    \n",
    "<br> def f():\n",
    "<br> &nbsp;&nbsp;&nbsp;&nbsp;&nbsp; print(x)\n",
    "<br>\n",
    "<br> main()\n",
    "</p>"
   ]
  },
  {
   "cell_type": "code",
   "execution_count": null,
   "metadata": {},
   "outputs": [],
   "source": []
  },
  {
   "cell_type": "markdown",
   "metadata": {},
   "source": [
    "<p> Q5) Give the output of the program\n",
    "<br> x = 7\n",
    "<br> def main():\n",
    "<br> &nbsp;&nbsp;&nbsp;&nbsp;&nbsp;   global x\n",
    "<br> &nbsp;&nbsp;&nbsp;&nbsp;&nbsp;   x = 5\n",
    "<br> &nbsp;&nbsp;&nbsp;&nbsp;&nbsp;   f()\n",
    "<br> &nbsp;&nbsp;&nbsp;&nbsp;&nbsp;   print(x)\n",
    "<br>    \n",
    "<br> def f():\n",
    "<br> &nbsp;&nbsp;&nbsp;&nbsp;&nbsp; print(x)\n",
    "<br>\n",
    "<br> main()\n",
    "</p>"
   ]
  },
  {
   "cell_type": "code",
   "execution_count": null,
   "metadata": {},
   "outputs": [],
   "source": []
  },
  {
   "cell_type": "markdown",
   "metadata": {},
   "source": [
    "<p> Q6) Give the output of the program\n",
    "<br> SALE_TAX_RATE = 0.06\n",
    "<br> def main():\n",
    "<br> &nbsp;&nbsp;&nbsp;&nbsp;&nbsp;   price = 100\n",
    "<br> &nbsp;&nbsp;&nbsp;&nbsp;&nbsp;   cost  = (1 + SALE_TAX_RATE) * price\n",
    "<br> &nbsp;&nbsp;&nbsp;&nbsp;&nbsp;   print(\"Total Cost: ${0:,.2f}\".format(cost))\n",
    "<br>\n",
    "<br> main()\n",
    "</p>"
   ]
  },
  {
   "cell_type": "code",
   "execution_count": null,
   "metadata": {},
   "outputs": [],
   "source": []
  },
  {
   "cell_type": "markdown",
   "metadata": {},
   "source": [
    "<p> Q7) Give the output of the program\n",
    "<br> def main():\n",
    "<br> &nbsp;&nbsp;&nbsp;&nbsp;&nbsp;   grades = [80, 75, 90, 100]\n",
    "<br> &nbsp;&nbsp;&nbsp;&nbsp;&nbsp;   grades = dropLowest(grades)\n",
    "<br> &nbsp;&nbsp;&nbsp;&nbsp;&nbsp;   average = sum(grades)/len(grades)\n",
    "<br> &nbsp;&nbsp;&nbsp;&nbsp;&nbsp;   print(round(average))\n",
    "<br>    \n",
    "<br> def dropLowest(grades):\n",
    "<br> &nbsp;&nbsp;&nbsp;&nbsp;&nbsp; lowestGrade = min(grades)\n",
    "<br> &nbsp;&nbsp;&nbsp;&nbsp;&nbsp; grades.remove(lowestGrade)\n",
    "<br> &nbsp;&nbsp;&nbsp;&nbsp;&nbsp; return grades\n",
    "<br>\n",
    "<br> main()\n",
    "</p>"
   ]
  },
  {
   "cell_type": "code",
   "execution_count": null,
   "metadata": {},
   "outputs": [],
   "source": []
  },
  {
   "cell_type": "markdown",
   "metadata": {},
   "source": [
    "<p> Q8) Give the output of the program\n",
    "<br> def main():\n",
    "<br> &nbsp;&nbsp;&nbsp;&nbsp;&nbsp;   s = [\"SRdfgdfg tRDFfdfdtRERVD\"]\n",
    "<br> &nbsp;&nbsp;&nbsp;&nbsp;&nbsp;   numCaps = calcNumOfCaps(s)\n",
    "<br> &nbsp;&nbsp;&nbsp;&nbsp;&nbsp;   print(numCaps)\n",
    "<br>    \n",
    "<br> def calcNumOfCaps(s):\n",
    "<br> &nbsp;&nbsp;&nbsp;&nbsp;&nbsp; numOfCaps = 0\n",
    "<br> &nbsp;&nbsp;&nbsp;&nbsp;&nbsp; for ch in s:\n",
    "<br> &nbsp;&nbsp;&nbsp;&nbsp;&nbsp;&nbsp;&nbsp;&nbsp;&nbsp;&nbsp; if 'A' <= ch <= 'Z':    \n",
    "<br> &nbsp;&nbsp;&nbsp;&nbsp;&nbsp;&nbsp;&nbsp;&nbsp;&nbsp;&nbsp;&nbsp;&nbsp;&nbsp;&nbsp;&nbsp; numOfCaps += 1     \n",
    "<br> &nbsp;&nbsp;&nbsp;&nbsp;&nbsp; return numOfCaps\n",
    "<br>\n",
    "<br> main()\n",
    "</p>"
   ]
  },
  {
   "cell_type": "code",
   "execution_count": null,
   "metadata": {},
   "outputs": [],
   "source": []
  },
  {
   "cell_type": "markdown",
   "metadata": {},
   "source": [
    "<p> Q9) Write a function named sum_to(n) that returns the sum of all integer numbers up to and including n. \n",
    "    for example, sum_to(10) would be 1+2+3...+10 which would return the value 55. </p>"
   ]
  },
  {
   "cell_type": "code",
   "execution_count": null,
   "metadata": {},
   "outputs": [],
   "source": []
  },
  {
   "cell_type": "markdown",
   "metadata": {},
   "source": [
    "<p> Q10) Write a function area_of_circle(r) that asks the user for a radious r and returns the area of a circle of radius r. </p>\n",
    "\n",
    "<i> Hint </i>: The area of the circle is pi=3.14\n",
    "\n",
    "A = pi * r^2 "
   ]
  },
  {
   "cell_type": "code",
   "execution_count": null,
   "metadata": {},
   "outputs": [],
   "source": []
  },
  {
   "cell_type": "markdown",
   "metadata": {},
   "source": [
    "<p> Q11) Give the output of the program\n",
    "<br> def main():\n",
    "<br> &nbsp;&nbsp;&nbsp;&nbsp;&nbsp;   display(\"nudge \")\n",
    "<br> &nbsp;&nbsp;&nbsp;&nbsp;&nbsp;   display(\"nudge \", 4)\n",
    "<br>    \n",
    "<br> def display(x, times = 2):\n",
    "<br> &nbsp;&nbsp;&nbsp;&nbsp;&nbsp; print(x * times)\n",
    "<br>\n",
    "<br> main()\n",
    "</p>"
   ]
  },
  {
   "cell_type": "code",
   "execution_count": null,
   "metadata": {},
   "outputs": [],
   "source": []
  },
  {
   "cell_type": "markdown",
   "metadata": {},
   "source": [
    "<p> Q12) Give the output of the program\n",
    "<br> def main():\n",
    "<br> &nbsp;&nbsp;&nbsp;&nbsp;&nbsp; def calculateSumAndProduct(x, y):\n",
    "<br> &nbsp;&nbsp;&nbsp;&nbsp;&nbsp;&nbsp;&nbsp;&nbsp;&nbsp;&nbsp; return x + y, x * y      \n",
    "<br> &nbsp;&nbsp;&nbsp;&nbsp;&nbsp;   calculateSumAndProduct(5, 5)\n",
    "<br>\n",
    "<br> main()\n",
    "</p>"
   ]
  },
  {
   "cell_type": "code",
   "execution_count": null,
   "metadata": {},
   "outputs": [],
   "source": []
  },
  {
   "cell_type": "markdown",
   "metadata": {},
   "source": [
    "<p> Q13) Give the output of the program\n",
    "<br> def main():\n",
    "<br> &nbsp;&nbsp;&nbsp;&nbsp;&nbsp;   display(\"spam\", \"and\", \"eggs\", 5)\n",
    "<br> &nbsp;&nbsp;&nbsp;&nbsp;&nbsp;   display(\"spam\", \"and\", \"eggs\", 5)\n",
    "<br>    \n",
    "<br> def display(x, y, z, spacing = 1):\n",
    "<br> &nbsp;&nbsp;&nbsp;&nbsp;&nbsp; print(x + (\" \" * spacing) + y + (\" \" * spacing) + z)\n",
    "<br>\n",
    "<br> main()\n",
    "</p>"
   ]
  },
  {
   "cell_type": "code",
   "execution_count": null,
   "metadata": {},
   "outputs": [],
   "source": []
  },
  {
   "cell_type": "markdown",
   "metadata": {},
   "source": [
    "<p> Q14) Determine list2 value list1 = [\"democratic\", \"republican\", \"equal\", \"python\", \"break\", \"two\", \"ruby\"],\n",
    "<br> list2 = [len(word) for word in list1] \n",
    "<br> list2 = [word.capitalize() for word in list1] \n",
    "<br> list2 = [word.upper() for word in list1 if len(word) < 6] \n",
    "<br> list2 = [x[0:2] for x in list1 if len(x) % 2 == 1] \n",
    "</p>"
   ]
  },
  {
   "cell_type": "code",
   "execution_count": null,
   "metadata": {},
   "outputs": [],
   "source": []
  },
  {
   "cell_type": "markdown",
   "metadata": {},
   "source": [
    "<p> Q15) Use list Comprehension to simplify the code\n",
    "<br> numbers = [9, -5, 4, 1, -7]\n",
    "<br> newList = []\n",
    "<br> for num in numbers:\n",
    "<br> &nbsp;&nbsp;&nbsp;&nbsp;&nbsp;   if num > 0 :\n",
    "<br> &nbsp;&nbsp;&nbsp;&nbsp;&nbsp;&nbsp;&nbsp;&nbsp;&nbsp;&nbsp; newList.append(num**0.5) #squere root\n",
    "<br> print(newList)\n",
    "</p>"
   ]
  },
  {
   "cell_type": "code",
   "execution_count": null,
   "metadata": {},
   "outputs": [],
   "source": []
  },
  {
   "cell_type": "markdown",
   "metadata": {},
   "source": [
    "<p> Q16) Get lambda expression output\n",
    "<br> x = lambda a : a + 10\n",
    "<br> print(x(5))\n",
    "</p>"
   ]
  },
  {
   "cell_type": "code",
   "execution_count": null,
   "metadata": {},
   "outputs": [],
   "source": []
  },
  {
   "cell_type": "markdown",
   "metadata": {},
   "source": [
    "<p> Q17) Get lambda expression output\n",
    "<br> x = lambda a, b : a * b\n",
    "<br> print(x(5, 6))\n",
    "</p>"
   ]
  },
  {
   "cell_type": "code",
   "execution_count": null,
   "metadata": {},
   "outputs": [],
   "source": []
  },
  {
   "cell_type": "markdown",
   "metadata": {},
   "source": [
    "<p> Q18) Get lambda expression output\n",
    "<br> x = lambda a, b, c : a + b + c\n",
    "<br> print(x(5, 6, 2))\n",
    "</p>"
   ]
  },
  {
   "cell_type": "code",
   "execution_count": null,
   "metadata": {},
   "outputs": [],
   "source": []
  },
  {
   "cell_type": "markdown",
   "metadata": {},
   "source": [
    "<p> Q19) Get lambda expression output\n",
    "<br> double = lambda x: x * 2\n",
    "<br> print(double(5))\n",
    "</p>"
   ]
  },
  {
   "cell_type": "code",
   "execution_count": null,
   "metadata": {},
   "outputs": [],
   "source": []
  },
  {
   "cell_type": "markdown",
   "metadata": {},
   "source": [
    "<p> Q20) Get lambda expression output\n",
    "<br> (lambda x, y: x + y)(2, 3)\n",
    "<br> \n",
    "</p>\n"
   ]
  },
  {
   "cell_type": "code",
   "execution_count": null,
   "metadata": {},
   "outputs": [],
   "source": []
  },
  {
   "cell_type": "markdown",
   "metadata": {},
   "source": [
    "<p>NE = [(\"Main\", 30840, 1.329), (\"Vermont\", 9217, 0.626), (\"New Hampshire\", 8953, 1.321), (\"Massachusetts\", 7800, 6.646),(\"Connecticut\", 4842, 3.59),(\"Rhode Island\", 1044, 1.05)]\n",
    "</p>\n",
    "\n",
    "<p> Write a program that\n",
    "    <br> a) display the name of the states in the list NE in descending order by population\n",
    "    <br> b) display the name of the states in the list NE in descending order by land area\n",
    "    <br> c) display the name of the states in the list NE in ascending order by length of the name of the state\n",
    "    <br> d) display the name of the states in the list NE in ascending order by population density\n",
    "    </p>\n",
    "\n"
   ]
  },
  {
   "cell_type": "code",
   "execution_count": null,
   "metadata": {},
   "outputs": [],
   "source": []
  }
 ],
 "metadata": {
  "kernelspec": {
   "display_name": "Python 3",
   "language": "python",
   "name": "python3"
  },
  "language_info": {
   "codemirror_mode": {
    "name": "ipython",
    "version": 3
   },
   "file_extension": ".py",
   "mimetype": "text/x-python",
   "name": "python",
   "nbconvert_exporter": "python",
   "pygments_lexer": "ipython3",
   "version": "3.7.4"
  }
 },
 "nbformat": 4,
 "nbformat_minor": 2
}

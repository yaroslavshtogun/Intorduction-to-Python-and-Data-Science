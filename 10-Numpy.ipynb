{
 "cells": [
  {
   "cell_type": "markdown",
   "metadata": {},
   "source": [
    "# Working with Numpy Library"
   ]
  },
  {
   "cell_type": "markdown",
   "metadata": {},
   "source": [
    "<h2> Numpy Library </h2>\n",
    "<a id = \"Numpy\"> </a>\n",
    "\n",
    "<p>\n",
    "NumPy is a Python library used for working with arrays (one and multidementional arrays). It also has functions for working in domain of linear algebra, fourier transform, and matrices. It was created in 2005 by Travis Oliphant.\n",
    "    \n",
    "NumPy stands for Numerical Python.\n",
    "</p>\n",
    "\n",
    "### Why Numpy\n",
    "<p>\n",
    "In Python we have lists that serve the purpose of arrays, but they are slow to process.\n",
    "    \n",
    "NumPy aims to provide an array object that is up to 50x faster than traditional Python lists.\n",
    "\n",
    "The array object in NumPy is called ndarray, it provides a lot of supporting functions that make working with ndarray very easy.\n",
    "\n",
    "Arrays are very frequently used in data science, where speed and resources are very important.\n",
    "\n",
    "</p>\n",
    "\n",
    "<p> You can find more documentation and examples about Numpy library on <a  href=\"https://www.tutorialspoint.com/numpy/numpy_introduction.htm\"> Numpy Documentation</a> </p>"
   ]
  },
  {
   "cell_type": "markdown",
   "metadata": {},
   "source": [
    "## Getting Started\n",
    "To use numpy, you will need to installed it first with <i>PIP</i>."
   ]
  },
  {
   "cell_type": "code",
   "execution_count": null,
   "metadata": {},
   "outputs": [],
   "source": [
    "# C:\\Users\\Your Name>pip install numpy"
   ]
  },
  {
   "cell_type": "code",
   "execution_count": 2,
   "metadata": {},
   "outputs": [],
   "source": [
    "# To use it in your code, you need to import numpy afrer installation\n",
    "import numpy as np  # use np as allias "
   ]
  },
  {
   "cell_type": "code",
   "execution_count": null,
   "metadata": {},
   "outputs": [],
   "source": [
    "# Checking NumPy Version\n",
    "print(np.__version__)"
   ]
  },
  {
   "cell_type": "markdown",
   "metadata": {},
   "source": [
    "## Create Arrays\n",
    "NumPy is used to work with arrays. The array object in NumPy is called <b><i>ndarray</i></b>.\n",
    "\n",
    "We can create a NumPy <i>ndarray</i> object by using the <i>array()</i> function."
   ]
  },
  {
   "cell_type": "code",
   "execution_count": null,
   "metadata": {},
   "outputs": [],
   "source": [
    "# Create array from list \n",
    "ar = np.array([1, 2, 3, 4, 5])\n",
    "\n",
    "# print created array\n",
    "print(ar)\n",
    "\n",
    "# print array type\n",
    "print(type(ar))"
   ]
  },
  {
   "cell_type": "code",
   "execution_count": null,
   "metadata": {},
   "outputs": [],
   "source": [
    "# Create array from tuple \n",
    "ar = np.array((1, 2, 3, 4, 5))\n",
    "\n",
    "# print created array\n",
    "print(ar)\n",
    "\n",
    "# print array type\n",
    "print(type(ar))"
   ]
  },
  {
   "cell_type": "markdown",
   "metadata": {},
   "source": [
    "## Array Dimensionality\n",
    "Array dimension show the depth of a array (nested arrays). Nested array is a array where its elements are arrays themself.\n",
    "\n",
    "### 0-D Array\n",
    "0-D arrays (Scalars) are the elements in an array. Each value in an array is a 0-D array."
   ]
  },
  {
   "cell_type": "code",
   "execution_count": null,
   "metadata": {},
   "outputs": [],
   "source": [
    "# 0-D array\n",
    "ar = np.array(12)\n",
    "\n",
    "# print created array\n",
    "print(ar)"
   ]
  },
  {
   "cell_type": "markdown",
   "metadata": {},
   "source": [
    "### 1-D Array (Vector)\n",
    "1-D array is a array that has its elements as 0-D arrays."
   ]
  },
  {
   "cell_type": "code",
   "execution_count": null,
   "metadata": {},
   "outputs": [],
   "source": [
    "# 1-D array\n",
    "ar = np.array([1, 2, 3, 4, 5])\n",
    "\n",
    "# print created array\n",
    "print(ar)"
   ]
  },
  {
   "cell_type": "markdown",
   "metadata": {},
   "source": [
    "### 2-D Array (Matrix)\n",
    "2-D array is a array that has its elements as 1-D arrays."
   ]
  },
  {
   "cell_type": "code",
   "execution_count": null,
   "metadata": {},
   "outputs": [],
   "source": [
    "# 2-D array\n",
    "ar = np.array([[1, 2, 3], [4, 5, 6]])\n",
    "\n",
    "# print created array\n",
    "print(ar)"
   ]
  },
  {
   "cell_type": "markdown",
   "metadata": {},
   "source": [
    "### 3-D Array (Tensor)\n",
    "3-D array is a array that has its elements as 2-D arrays (Matrix)."
   ]
  },
  {
   "cell_type": "code",
   "execution_count": null,
   "metadata": {},
   "outputs": [],
   "source": [
    "# 3-D array\n",
    "ar = np.array([[[1, 2, 3], [4, 5, 6]], [[1, 2, 3], [4, 5, 6]]])\n",
    "\n",
    "# print created array\n",
    "print(ar)"
   ]
  },
  {
   "cell_type": "markdown",
   "metadata": {},
   "source": [
    "## Number of Dimensions\n",
    "NumPy Arrays provides the <b>ndim</b> attribute that returns an integer that tells us how many dimensions the array hav"
   ]
  },
  {
   "cell_type": "code",
   "execution_count": null,
   "metadata": {},
   "outputs": [],
   "source": [
    "# Create multidemntional arrays\n",
    "a = np.array(42)\n",
    "b = np.array([1, 2, 3, 4, 5])\n",
    "c = np.array([[1, 2, 3], [4, 5, 6]])\n",
    "d = np.array([[[1, 2, 3], [4, 5, 6]], [[1, 2, 3], [4, 5, 6]]])\n",
    "\n",
    "# Print array's dimension\n",
    "print('a - ', a.ndim)\n",
    "print('b - ', b.ndim)\n",
    "print('c - ', c.ndim)\n",
    "print('d - ', d.ndim)"
   ]
  },
  {
   "cell_type": "markdown",
   "metadata": {},
   "source": [
    "### Higher Dimensional Arrays\n",
    "An array can have any number of dimensions.\n",
    "\n",
    "When the array is created, you can define the number of dimensions by using the ndmin argument.mensional Arrays\n",
    "An array can have any number of dimensions.\n",
    "\n",
    "When the array is created, you can define the number of dimensions by using the <b>ndmin</b> argument."
   ]
  },
  {
   "cell_type": "code",
   "execution_count": null,
   "metadata": {},
   "outputs": [],
   "source": [
    "ar = np.array([1, 2, 3, 4], ndmin = 5)\n",
    "\n",
    "print(ar)\n",
    "print('Number of Dimensions :', ar.ndim)"
   ]
  },
  {
   "cell_type": "markdown",
   "metadata": {},
   "source": [
    "In this array the innermost dimension (5th dim) has 4 elements, the 4th dim has 1 element that is the vector, the 3rd dim has 1 element that is the matrix with the vector, the 2nd dim has 1 element that is 3D array and 1st dim has 1 element that is a 4D array"
   ]
  },
  {
   "cell_type": "markdown",
   "metadata": {},
   "source": [
    "## Array Indexing and Slicing\n",
    "\n",
    "Array indexing is the same as accessing an array element.\n",
    "\n",
    "You can access an array element by referring to its index number.\n",
    "\n",
    "The indexes in NumPy arrays start with 0, meaning that the first element has index 0, and the second has index 1 etc."
   ]
  },
  {
   "cell_type": "code",
   "execution_count": null,
   "metadata": {
    "scrolled": false
   },
   "outputs": [],
   "source": [
    "# Create 2-D array\n",
    "ar = np.array([[1,2,3,4,5], [6,7,8,9,10]])\n",
    "\n",
    "# Print created array with positive indexes\n",
    "print(ar)\n",
    "\n",
    "# Print created array with positive indexes\n",
    "print('Print 2nd element on 1st dim: ', ar[0, 1])\n",
    "\n",
    "# Print created array with negative  indexes\n",
    "print('Print last element from 2nd dim: ', ar[1, -1])"
   ]
  },
  {
   "cell_type": "markdown",
   "metadata": {},
   "source": [
    "### Slicing arrays\n",
    "Slicing in python means taking elements from one given index to another given index.\n",
    "\n",
    "We pass slice instead of index like this:<b> [start:end] </b>.\n",
    "\n",
    "We can also define the step, like this: <b> [start:end:step] </b>.\n",
    "\n",
    "If we don't pass start its considered 0\n",
    "\n",
    "If we don't pass end its considered length of array in that dimension\n",
    "\n",
    "If we don't pass step its considered 1"
   ]
  },
  {
   "cell_type": "code",
   "execution_count": null,
   "metadata": {},
   "outputs": [],
   "source": [
    "# Create 2-D array\n",
    "ar = np.array([[1,2,3,4,5], [6,7,8,9,10]])\n",
    "\n",
    "# Print created array with positive indexes\n",
    "print(ar)\n",
    "\n",
    "# From the second element, slice elements from index 1 to index 4 (not included):\n",
    "print('Slice - 1:', ar[1, 1:4])\n",
    "\n",
    "# From both elements, return index 2:\n",
    "print('Slice - 2:', ar[0:2, 2])\n",
    "\n",
    "# From both elements, slice index 1 to index 4 (not included), this will return a 2-D array:\n",
    "print('Slice - 3:\\n', ar[0:2, 1:4])"
   ]
  },
  {
   "cell_type": "code",
   "execution_count": 3,
   "metadata": {},
   "outputs": [
    {
     "name": "stdout",
     "output_type": "stream",
     "text": [
      "[2 4]\n",
      "[1 3 5 7]\n"
     ]
    }
   ],
   "source": [
    "# Return every other element from index 1 to index 5:\n",
    "ar = np.array([1, 2, 3, 4, 5, 6, 7])\n",
    "\n",
    "# Print array\n",
    "print(ar[1:5:2])\n",
    "\n",
    "# Return every other element from the entire array:\n",
    "ar = np.array([1, 2, 3, 4, 5, 6, 7])\n",
    "\n",
    "# Print Array \n",
    "print(ar[::2])"
   ]
  },
  {
   "cell_type": "markdown",
   "metadata": {},
   "source": [
    "## Data Types in NumPy\n",
    "NumPy has some extra data types, and refer to data types with one character, like i for integers, u for unsigned integers etc.\n",
    "\n",
    "Below is a list of all data types in NumPy and the characters used to represent them.\n",
    "\n",
    "<br>i - integer\n",
    "<br>b - boolean\n",
    "<br>u - unsigned integer\n",
    "<br>f - float\n",
    "<br>c - complex float\n",
    "<br>m - timedelta\n",
    "<br>M - datetime\n",
    "<br>O - object\n",
    "<br>S - string\n",
    "<br>U - unicode string\n",
    "<br>V - fixed chunk of memory for other type ( void )"
   ]
  },
  {
   "cell_type": "code",
   "execution_count": null,
   "metadata": {
    "scrolled": true
   },
   "outputs": [],
   "source": [
    "# The NumPy array object has a property called dtype that returns the data type of the array:\n",
    "\n",
    "# Create integer array\n",
    "ar = np.array([[1,2,3,4,5], [6,7,8,9,10]])\n",
    "\n",
    "# Print data type\n",
    "print(ar.dtype)"
   ]
  },
  {
   "cell_type": "code",
   "execution_count": null,
   "metadata": {},
   "outputs": [],
   "source": [
    "# Create string array\n",
    "ar = np.array(['apple', 'banana', 'cherry'])\n",
    "\n",
    "# Print data type\n",
    "print(ar.dtype)"
   ]
  },
  {
   "cell_type": "markdown",
   "metadata": {},
   "source": [
    "### Creating Arrays With a Defined Data Type\n",
    "We use the <b>array()</b> function to create arrays, this function can take an optional argument: <b>dtype</b> that allows us to define the expected data type of the array elements:"
   ]
  },
  {
   "cell_type": "code",
   "execution_count": null,
   "metadata": {
    "scrolled": false
   },
   "outputs": [],
   "source": [
    "ar = np.array([1, 2, 3, 4], dtype='S')\n",
    "\n",
    "# Print string array \n",
    "print(ar)\n",
    "\n",
    "# Print data type\n",
    "print(ar.dtype)"
   ]
  },
  {
   "cell_type": "markdown",
   "metadata": {},
   "source": [
    "## Converting Data Type on Existing Arrays\n",
    "The best way to change the data type of an existing array, is to make a copy of the array with the <b>astype()</b> method.\n",
    "\n",
    "The <b>astype()</b> function creates a copy of the array, and allows you to specify the data type as a parameter.\n",
    "\n",
    "The data type can be specified using a string, like <b>'f'</b> for float, <b>'i'</b> for integer etc. or you can use the data type directly like <b>float</b> for float and <b>int</b> for integer."
   ]
  },
  {
   "cell_type": "code",
   "execution_count": null,
   "metadata": {
    "scrolled": true
   },
   "outputs": [],
   "source": [
    "# Create float array \n",
    "ar = np.array([1.1, 2.1, 3.1])\n",
    "\n",
    "# Print float array\n",
    "print(ar)\n",
    "\n",
    "# Convert to integer array\n",
    "newar = ar.astype('i')\n",
    "\n",
    "# Print integer array \n",
    "print(newar)\n",
    "\n",
    "# Print data type \n",
    "print(newar.dtype)"
   ]
  },
  {
   "cell_type": "code",
   "execution_count": null,
   "metadata": {},
   "outputs": [],
   "source": [
    "# Create integer array \n",
    "ar = np.array([1, 0, 3])\n",
    "\n",
    "# Print array\n",
    "print(ar)\n",
    "\n",
    "# Convert to bool array\n",
    "newar = ar.astype(bool)\n",
    "\n",
    "# Print array \n",
    "print(newar)\n",
    "\n",
    "# Print data type \n",
    "print(newar.dtype)"
   ]
  },
  {
   "cell_type": "markdown",
   "metadata": {},
   "source": [
    "## Shape of an Array\n",
    "The shape of an array is the number of elements in each dimension.\n",
    "\n",
    "NumPy arrays have an attribute called <b>shape</b> that returns a tuple with each index having the number of corresponding elements."
   ]
  },
  {
   "cell_type": "code",
   "execution_count": null,
   "metadata": {
    "scrolled": false
   },
   "outputs": [],
   "source": [
    "# Create integer array\n",
    "ar = np.array([[1,2,3,4,5], [6,7,8,9,10]])\n",
    "\n",
    "# Print data type\n",
    "print(ar.shape)"
   ]
  },
  {
   "cell_type": "markdown",
   "metadata": {},
   "source": [
    "The example above returns (2, 5), which means that the array has 2 dimensions, and each dimension has 5 elements."
   ]
  },
  {
   "cell_type": "code",
   "execution_count": null,
   "metadata": {},
   "outputs": [],
   "source": [
    "# Create an array with 5 dimensions using ndmin\n",
    "# using a vector with values 1,2,3,4 and verify that last dimension has value 4\n",
    "ar = np.array([1, 2, 3, 4], ndmin=5)\n",
    "\n",
    "# Print array\n",
    "print(ar)\n",
    "\n",
    "# Print shape\n",
    "print('Shape of array :', ar.shape)"
   ]
  },
  {
   "cell_type": "markdown",
   "metadata": {},
   "source": [
    "Integers at every index tells about the number of elements the corresponding dimension has.\n",
    "\n",
    "In the example above at index-4 we have value 4, so we can say that 5th ( 4 + 1 th) dimension has 4 elements."
   ]
  },
  {
   "cell_type": "markdown",
   "metadata": {},
   "source": [
    "## Reshaping arrays\n",
    "Reshaping means changing the shape of an array.\n",
    "\n",
    "The shape of an array is the number of elements in each dimension.\n",
    "\n",
    "By reshaping we can add or remove dimensions or change number of elements in each dimension."
   ]
  },
  {
   "cell_type": "code",
   "execution_count": null,
   "metadata": {},
   "outputs": [],
   "source": [
    "# Reshape From 1-D to 2-D\n",
    "\n",
    "ar = np.array([1, 2, 3, 4, 5, 6, 7, 8, 9, 10, 11, 12])\n",
    "print('Original array')\n",
    "print(ar)\n",
    "\n",
    "newar = ar.reshape(4, 3)\n",
    "\n",
    "# The outermost dimension will have 4 arrays, each with 3 elements:\n",
    "print('Re-shaped array')\n",
    "print(newar)"
   ]
  },
  {
   "cell_type": "code",
   "execution_count": null,
   "metadata": {
    "scrolled": true
   },
   "outputs": [],
   "source": [
    "# Reshape From 1-D to 3-D\n",
    "\n",
    "ar = np.array([1, 2, 3, 4, 5, 6, 7, 8, 9, 10, 11, 12])\n",
    "print('Original array')\n",
    "print(ar)\n",
    "\n",
    "newar = ar.reshape(2, 3, 2)\n",
    "\n",
    "# The outermost dimension will have 2 arrays that contains 3 arrays, each with 2 elements:\n",
    "print('Re-shaped array')\n",
    "print(newar)"
   ]
  },
  {
   "cell_type": "markdown",
   "metadata": {},
   "source": [
    "### Can We Reshape Into any Shape?\n",
    "\n",
    "Yes, as long as the elements required for reshaping are equal in both shapes.\n",
    "\n",
    "We can reshape an 8 elements 1D array into 4 elements in 2 rows 2D array but we cannot reshape it into a 3 elements 3 rows 2D array as that would require 3x3 = 9 elements"
   ]
  },
  {
   "cell_type": "markdown",
   "metadata": {},
   "source": [
    "## Iterating Arrays\n",
    "Iterating means going through elements one by one.\n",
    "\n",
    "As we deal with multi-dimensional arrays in numpy, we can do this using basic <b>for</b> loop of python.\n",
    "\n",
    "If we iterate on a 1-D array it will go through each element one by one."
   ]
  },
  {
   "cell_type": "code",
   "execution_count": null,
   "metadata": {
    "scrolled": true
   },
   "outputs": [],
   "source": [
    "# Create 1-D array\n",
    "ar = np.array([1, 2, 3])\n",
    "\n",
    "# Iterate throught array\n",
    "for x in ar:\n",
    "  print(x)"
   ]
  },
  {
   "cell_type": "code",
   "execution_count": null,
   "metadata": {},
   "outputs": [],
   "source": [
    "# Create 2-D array\n",
    "ar = np.array([[1, 2, 3], [4, 5, 6]])\n",
    "\n",
    "# Iterate throught array\n",
    "for x in ar:\n",
    "  print(x)\n",
    "\n",
    "# If we iterate on a n-D array it will go through n-1th dimension one by one.\n",
    "# To return the actual values, the scalars, we have to iterate the arrays in each dimension.\n",
    "\n",
    "# Iterate throught array to get scalar values\n",
    "print('\\n')\n",
    "for x in arr:\n",
    "  for y in x:\n",
    "    print(y)"
   ]
  },
  {
   "cell_type": "markdown",
   "metadata": {},
   "source": [
    "## Iterating Arrays Using nditer()\n",
    "The function <b>nditer()</b> is a helping function that can be used from very basic to very advanced iterations. It solves some basic issues which we face in iteration, lets go through it with examples.\n",
    "\n",
    "### Iterating on Each Scalar Element\n",
    "In basic <b>for</b> loops, iterating through each scalar of an array we need to use <i>n</i> <b>for</b> loops which can be difficult to write for arrays with very high dimensionality."
   ]
  },
  {
   "cell_type": "code",
   "execution_count": null,
   "metadata": {},
   "outputs": [],
   "source": [
    "# Create 3-D array\n",
    "ar = np.array([[[1, 2], [3, 4]], [[5, 6], [7, 8]]])\n",
    "\n",
    "# to get to the scalar value need 3 for loops\n",
    "print('\\nUsing 3 for loops:')\n",
    "for x in ar:\n",
    "  for y in x:\n",
    "    for z in y:\n",
    "      print(z)\n",
    "\n",
    "# Iterate throught array with nditer function\n",
    "print('\\nUsing nditer():')\n",
    "for x in np.nditer(ar):\n",
    "  print(x)"
   ]
  },
  {
   "cell_type": "markdown",
   "metadata": {},
   "source": [
    "## Joining NumPy Arrays\n",
    "Joining means putting contents of two or more arrays in a single array.\n",
    "\n",
    "In SQL we join tables based on a key, whereas in NumPy we join arrays by axes.\n",
    "\n",
    "We pass a sequence of arrays that we want to join to the <b>concatenate()</b> function, along with the axis. If axis is not explicitly passed, it is taken as 0."
   ]
  },
  {
   "cell_type": "code",
   "execution_count": null,
   "metadata": {},
   "outputs": [],
   "source": [
    "# Crerate array1\n",
    "arr1 = np.array([1, 2, 3])\n",
    "# Print array1\n",
    "print(arr1)\n",
    "\n",
    "# Crerate array2\n",
    "arr2 = np.array([4, 5, 6])\n",
    "# Print array2\n",
    "print(arr2)\n",
    "\n",
    "# Concatenate arrays into new array\n",
    "arr = np.concatenate((arr1, arr2))\n",
    "\n",
    "# Print concatenaned array\n",
    "print(arr)"
   ]
  },
  {
   "cell_type": "code",
   "execution_count": null,
   "metadata": {},
   "outputs": [],
   "source": [
    "# Crerate array1\n",
    "arr1 = np.array([[1, 2], [3, 4]])\n",
    "# Print array1\n",
    "print(arr1, '\\n')\n",
    "\n",
    "# Crerate array2\n",
    "arr2 = np.array([[5, 6], [7, 8]])\n",
    "# Print array2\n",
    "print(arr2,'\\n')\n",
    "\n",
    "# Concatenate arrays into new array along the row axis = 0\n",
    "arr = np.concatenate((arr1, arr2), axis = 0)\n",
    "\n",
    "# Print concatenaned array\n",
    "print(arr,'\\n')\n",
    "\n",
    "# Concatenate arrays into new array along the column axis = 1\n",
    "arrc = np.concatenate((arr1, arr2), axis = 1)\n",
    "\n",
    "# Print concatenaned array\n",
    "print(arrc)"
   ]
  },
  {
   "cell_type": "markdown",
   "metadata": {},
   "source": [
    "### Joining Arrays Using Stack Functions\n",
    "Stacking is same as concatenation, the only difference is that stacking is done along a new axis.\n",
    "\n",
    "We can concatenate two 1-D arrays along the second axis which would result in putting them one over the other, ie. stacking.\n",
    "\n",
    "We pass a sequence of arrays that we want to join to the <b>stack()</b> method along with the axis. If axis is not explicitly passed it is taken as 0."
   ]
  },
  {
   "cell_type": "code",
   "execution_count": null,
   "metadata": {},
   "outputs": [],
   "source": [
    "# Crerate array1\n",
    "arr1 = np.array([[1, 2], [3, 4]])\n",
    "# Print array1\n",
    "print(arr1, '\\n')\n",
    "\n",
    "# Crerate array2\n",
    "arr2 = np.array([[5, 6], [7, 8]])\n",
    "# Print array2\n",
    "print(arr2,'\\n')\n",
    "\n",
    "# Staking arrays into new array along the column axis = 1\n",
    "arr = np.stack((arr1, arr2), axis = 1)\n",
    "\n",
    "# Print staked array\n",
    "print(arr,'\\n')"
   ]
  },
  {
   "cell_type": "code",
   "execution_count": null,
   "metadata": {},
   "outputs": [],
   "source": [
    "# NumPy provides a helper function: hstack() to stack along rows.\n",
    "# Crerate array1\n",
    "arr1 = np.array([[1, 2], [3, 4]])\n",
    "# Print array1\n",
    "print(arr1, '\\n')\n",
    "\n",
    "# Crerate array2\n",
    "arr2 = np.array([[5, 6], [7, 8]])\n",
    "# Print array2\n",
    "print(arr2,'\\n')\n",
    "\n",
    "# Staking arrays into new array along the column axis = 1\n",
    "arr = np.hstack((arr1, arr2))\n",
    "\n",
    "# Print staked array\n",
    "print(arr,'\\n')"
   ]
  },
  {
   "cell_type": "code",
   "execution_count": null,
   "metadata": {},
   "outputs": [],
   "source": [
    "# NumPy provides a helper function: vstack()  to stack along columns.\n",
    "# Crerate array1\n",
    "arr1 = np.array([[1, 2], [3, 4]])\n",
    "# Print array1\n",
    "print(arr1, '\\n')\n",
    "\n",
    "# Crerate array2\n",
    "arr2 = np.array([[5, 6], [7, 8]])\n",
    "# Print array2\n",
    "print(arr2,'\\n')\n",
    "\n",
    "# Staking arrays into new array along the column axis = 1\n",
    "arr = np.vstack((arr1, arr2))\n",
    "\n",
    "# Print staked array\n",
    "print(arr,'\\n')"
   ]
  },
  {
   "cell_type": "markdown",
   "metadata": {},
   "source": [
    "## Splitting NumPy Arrays\n",
    "Splitting is reverse operation of Joining.\n",
    "\n",
    "Joining merges multiple arrays into one and Splitting breaks one array into multiple.\n",
    "\n",
    "We use <b>array_split()</b> for splitting arrays, we pass it the array we want to split and the number of splits."
   ]
  },
  {
   "cell_type": "code",
   "execution_count": null,
   "metadata": {},
   "outputs": [],
   "source": [
    "# Crerate array\n",
    "ar = np.array([[1, 2], [3, 4], [5, 6], [7, 8], [9, 10], [11, 12]])\n",
    "\n",
    "# Split the 2-D array into three 2-D arrays\n",
    "newarr = np.array_split(ar, 3)\n",
    "\n",
    "# Returns three 2-D arrays. Print splited array \n",
    "print(newarr,'\\n')\n",
    "\n",
    "print(newarr[0],'\\n')\n",
    "print(newarr[1],'\\n')\n",
    "print(newarr[2],'\\n')"
   ]
  },
  {
   "cell_type": "markdown",
   "metadata": {},
   "source": [
    "## Searching and Filtering Arrays\n",
    "You can search an array for a certain value, and return the indexes that get a match.\n",
    "\n",
    "To search an array, use the <b>where()</b> method."
   ]
  },
  {
   "cell_type": "code",
   "execution_count": null,
   "metadata": {
    "scrolled": true
   },
   "outputs": [],
   "source": [
    "# Create array\n",
    "ar = np.array([1, 2, 3, 4, 5, 4, 4])\n",
    "\n",
    "# Get indexes where the condition match\n",
    "# Which means that the value 4 is present at index 3, 5, and 6.\n",
    "x = np.where(ar == 4)\n",
    "\n",
    "# Print the result\n",
    "print(x)\n",
    "\n",
    "# Retunr only values where the condition were met\n",
    "ar[x]"
   ]
  },
  {
   "cell_type": "code",
   "execution_count": null,
   "metadata": {},
   "outputs": [],
   "source": [
    "# Create array\n",
    "ar = np.array([1, 2, 3, 4, 5, 4, 4])\n",
    "\n",
    "# Get indexes where the condition match\n",
    "# Which means that the value 4 is present at index 3, 5, and 6.\n",
    "x = np.where(ar % 2 == 0)\n",
    "\n",
    "# Print the result\n",
    "print(x)\n",
    "\n",
    "# Retunr only values where the condition were met\n",
    "ar[x]\n"
   ]
  },
  {
   "cell_type": "markdown",
   "metadata": {},
   "source": [
    "## Pseudo Random and True Random.\n",
    "Computers work on programs, and programs are definitive set of instructions. So it means there must be some algorithm to generate a random number as well.\n",
    "\n",
    "If there is a program to generate random number it can be predicted, thus it is not truly random.\n",
    "\n",
    "Random numbers generated through a generation algorithm are called pseudo random.\n",
    "\n",
    "Can we make truly random numbers?\n",
    "\n",
    "Yes. In order to generate a truly random number on our computers we need to get the random data from some outside source. This outside source is generally our keystrokes, mouse movements, data on network etc.\n",
    "\n",
    "We do not need truly random numbers, unless its related to security (e.g. encryption keys) or the basis of application is the randomness (e.g. Digital roulette wheels).\n",
    "\n",
    "In this tutorial we will be using pseudo random numbers.\n",
    "\n",
    "### Generate Random Number\n",
    "NumPy offers the random module to work with random numbers."
   ]
  },
  {
   "cell_type": "code",
   "execution_count": null,
   "metadata": {
    "scrolled": true
   },
   "outputs": [],
   "source": [
    "# Generate a random integer from 0 to 100:\n",
    "\n",
    "# Import random labirary\n",
    "from numpy import random\n",
    "\n",
    "# Random integer number\n",
    "x = random.randint(100)\n",
    "\n",
    "print(x)\n"
   ]
  },
  {
   "cell_type": "code",
   "execution_count": null,
   "metadata": {},
   "outputs": [],
   "source": [
    "# Random float number\n",
    "x = random.rand()\n",
    "\n",
    "print(x)"
   ]
  },
  {
   "cell_type": "markdown",
   "metadata": {},
   "source": [
    "## Generate Random Array\n",
    "In NumPy we work with arrays, and you can use the two methods from the above examples to make random arrays.\n",
    "\n",
    "The <b>randint()</b> method takes a size parameter where you can specify the shape of an array."
   ]
  },
  {
   "cell_type": "code",
   "execution_count": null,
   "metadata": {},
   "outputs": [],
   "source": [
    "# Generate a 1-D array containing 5 random integers from 0 to 100\n",
    "x=random.randint(100, size=(5))\n",
    "\n",
    "print(x)"
   ]
  },
  {
   "cell_type": "code",
   "execution_count": null,
   "metadata": {},
   "outputs": [],
   "source": [
    "# Generate a 2-D array with 3 rows, each row containing 5 random integers from 0 to 100:\n",
    "x = random.randint(100, size=(3, 5))\n",
    "\n",
    "print(x)"
   ]
  },
  {
   "cell_type": "code",
   "execution_count": null,
   "metadata": {
    "scrolled": true
   },
   "outputs": [],
   "source": [
    "# Generate a 2-D array with 3 rows, each row containing 5 random numbers:\n",
    "x = random.rand(3, 5)\n",
    "\n",
    "print(x)"
   ]
  },
  {
   "cell_type": "markdown",
   "metadata": {},
   "source": [
    "### Generate Random Number From Array\n",
    "The <b>choice()</b> method allows you to generate a random value based on an array of values.\n",
    "\n",
    "The <b>choice()</b> method takes an array as a parameter and randomly returns one of the values. we can add a size parameter to specify the shape of the array."
   ]
  },
  {
   "cell_type": "code",
   "execution_count": null,
   "metadata": {
    "scrolled": true
   },
   "outputs": [],
   "source": [
    "x = random.choice([3, 5, 7, 9], size=(3, 5))\n",
    "\n",
    "print(x)"
   ]
  },
  {
   "cell_type": "code",
   "execution_count": null,
   "metadata": {},
   "outputs": [],
   "source": []
  }
 ],
 "metadata": {
  "kernelspec": {
   "display_name": "Python 3",
   "language": "python",
   "name": "python3"
  },
  "language_info": {
   "codemirror_mode": {
    "name": "ipython",
    "version": 3
   },
   "file_extension": ".py",
   "mimetype": "text/x-python",
   "name": "python",
   "nbconvert_exporter": "python",
   "pygments_lexer": "ipython3",
   "version": "3.7.4"
  }
 },
 "nbformat": 4,
 "nbformat_minor": 2
}
